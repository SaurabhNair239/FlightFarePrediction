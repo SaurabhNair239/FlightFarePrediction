{
 "cells": [
  {
   "cell_type": "code",
   "execution_count": 141,
   "metadata": {
    "colab": {
     "base_uri": "https://localhost:8080/"
    },
    "id": "4e6ozz5IoheX",
    "outputId": "eb38c727-0862-4fc1-d92f-4bce42f6343f"
   },
   "outputs": [
    {
     "name": "stdout",
     "output_type": "stream",
     "text": [
      "Requirement already satisfied: xgboost==1.0.1 in /usr/local/lib/python3.7/dist-packages (1.0.1)\n",
      "Requirement already satisfied: numpy in /usr/local/lib/python3.7/dist-packages (from xgboost==1.0.1) (1.19.5)\n",
      "Requirement already satisfied: scipy in /usr/local/lib/python3.7/dist-packages (from xgboost==1.0.1) (1.4.1)\n"
     ]
    }
   ],
   "source": [
    "!pip install xgboost==1.0.1"
   ]
  },
  {
   "cell_type": "code",
   "execution_count": 1,
   "metadata": {
    "id": "csHTstXeDkMg"
   },
   "outputs": [
    {
     "ename": "ModuleNotFoundError",
     "evalue": "No module named 'xgboost'",
     "output_type": "error",
     "traceback": [
      "\u001b[1;31m---------------------------------------------------------------------------\u001b[0m",
      "\u001b[1;31mModuleNotFoundError\u001b[0m                       Traceback (most recent call last)",
      "\u001b[1;32m<ipython-input-1-cdaafeb4015f>\u001b[0m in \u001b[0;36m<module>\u001b[1;34m\u001b[0m\n\u001b[0;32m      8\u001b[0m \u001b[1;32mfrom\u001b[0m \u001b[0msklearn\u001b[0m\u001b[1;33m.\u001b[0m\u001b[0mmetrics\u001b[0m \u001b[1;32mimport\u001b[0m \u001b[0mr2_score\u001b[0m\u001b[1;33m,\u001b[0m\u001b[0mmean_squared_error\u001b[0m\u001b[1;33m,\u001b[0m\u001b[0mrecall_score\u001b[0m\u001b[1;33m,\u001b[0m\u001b[0mprecision_score\u001b[0m\u001b[1;33m,\u001b[0m\u001b[0mf1_score\u001b[0m\u001b[1;33m\u001b[0m\u001b[1;33m\u001b[0m\u001b[0m\n\u001b[0;32m      9\u001b[0m \u001b[1;32mfrom\u001b[0m \u001b[0msklearn\u001b[0m\u001b[1;33m.\u001b[0m\u001b[0mmodel_selection\u001b[0m \u001b[1;32mimport\u001b[0m \u001b[0mGridSearchCV\u001b[0m\u001b[1;33m\u001b[0m\u001b[1;33m\u001b[0m\u001b[0m\n\u001b[1;32m---> 10\u001b[1;33m \u001b[1;32mfrom\u001b[0m \u001b[0mxgboost\u001b[0m \u001b[1;32mimport\u001b[0m \u001b[0mXGBRegressor\u001b[0m\u001b[1;33m\u001b[0m\u001b[1;33m\u001b[0m\u001b[0m\n\u001b[0m",
      "\u001b[1;31mModuleNotFoundError\u001b[0m: No module named 'xgboost'"
     ]
    }
   ],
   "source": [
    "import pandas as pd\n",
    "import numpy as np\n",
    "import seaborn as sns\n",
    "import matplotlib.pyplot as plt\n",
    "from sklearn.linear_model import LinearRegression\n",
    "from sklearn.model_selection import train_test_split\n",
    "from sklearn.preprocessing import StandardScaler\n",
    "from sklearn.metrics import r2_score,mean_squared_error,recall_score,precision_score,f1_score\n",
    "from sklearn.model_selection import GridSearchCV\n",
    "from xgboost import XGBRegressor"
   ]
  },
  {
   "cell_type": "code",
   "execution_count": null,
   "metadata": {
    "id": "7EDwLd7UDkMu"
   },
   "outputs": [],
   "source": [
    "train_set = pd.read_excel('Data_Train.xlsx')\n",
    "test_set = pd.read_excel('Test_set.xlsx')"
   ]
  },
  {
   "cell_type": "code",
   "execution_count": null,
   "metadata": {
    "colab": {
     "base_uri": "https://localhost:8080/",
     "height": 237
    },
    "id": "eF6Y1QsjDkMz",
    "outputId": "eb4d3508-0d25-4fab-d737-6872b2681fed"
   },
   "outputs": [],
   "source": [
    "train_set.head()"
   ]
  },
  {
   "cell_type": "code",
   "execution_count": null,
   "metadata": {
    "colab": {
     "base_uri": "https://localhost:8080/",
     "height": 295
    },
    "id": "k3DevVvUDkM5",
    "outputId": "001a5f8a-5f12-4fb4-c17f-691ed78f6872"
   },
   "outputs": [],
   "source": [
    "train_set.describe()"
   ]
  },
  {
   "cell_type": "code",
   "execution_count": null,
   "metadata": {
    "colab": {
     "base_uri": "https://localhost:8080/"
    },
    "id": "6do-6e2MDkM8",
    "outputId": "9991a800-4d3c-48af-e4d6-ad679da35fa2"
   },
   "outputs": [],
   "source": [
    "train_set.info()"
   ]
  },
  {
   "cell_type": "code",
   "execution_count": null,
   "metadata": {
    "colab": {
     "base_uri": "https://localhost:8080/"
    },
    "id": "H0HDNusKDkM_",
    "outputId": "c04bd117-e612-47c1-b833-7426ca86f740"
   },
   "outputs": [],
   "source": [
    "train_set.isna().sum()"
   ]
  },
  {
   "cell_type": "code",
   "execution_count": null,
   "metadata": {
    "colab": {
     "base_uri": "https://localhost:8080/"
    },
    "id": "LYzayuI0DkNC",
    "outputId": "97563916-8f36-4f98-d45a-bac0679df4d5"
   },
   "outputs": [],
   "source": [
    "train_set.shape"
   ]
  },
  {
   "cell_type": "code",
   "execution_count": null,
   "metadata": {
    "colab": {
     "base_uri": "https://localhost:8080/"
    },
    "id": "0FpRf8siDkNH",
    "outputId": "c47431e4-f723-4af4-a8c8-10d5d970f88e"
   },
   "outputs": [],
   "source": [
    "train_set = train_set.dropna()\n",
    "train_set.shape"
   ]
  },
  {
   "cell_type": "code",
   "execution_count": null,
   "metadata": {
    "colab": {
     "base_uri": "https://localhost:8080/",
     "height": 237
    },
    "id": "KoKxsjZiDkNL",
    "outputId": "36c36fb5-df5c-4218-e0a2-4dc4ac05b978"
   },
   "outputs": [],
   "source": [
    "train_set.head(5)"
   ]
  },
  {
   "cell_type": "markdown",
   "metadata": {
    "id": "wMjukdSsDkNR"
   },
   "source": [
    "## Finding Unique Values"
   ]
  },
  {
   "cell_type": "code",
   "execution_count": null,
   "metadata": {
    "colab": {
     "base_uri": "https://localhost:8080/"
    },
    "id": "wSxdw4t5DkNT",
    "outputId": "08645f54-9283-4204-a8e1-df18e422e0cb"
   },
   "outputs": [],
   "source": [
    "train_set['Airline'].unique()"
   ]
  },
  {
   "cell_type": "code",
   "execution_count": null,
   "metadata": {
    "colab": {
     "base_uri": "https://localhost:8080/"
    },
    "id": "oYOF_5hkDkNV",
    "outputId": "b3579dde-a032-4acc-a002-3669c81ecb08"
   },
   "outputs": [],
   "source": [
    "train_set['Source'].unique()"
   ]
  },
  {
   "cell_type": "code",
   "execution_count": null,
   "metadata": {
    "colab": {
     "base_uri": "https://localhost:8080/"
    },
    "id": "NoFUoL_LDkNZ",
    "outputId": "d55dcc33-5f58-478a-c2f8-41f5b3a9b870"
   },
   "outputs": [],
   "source": [
    "train_set['Destination'].unique()"
   ]
  },
  {
   "cell_type": "code",
   "execution_count": null,
   "metadata": {
    "colab": {
     "base_uri": "https://localhost:8080/"
    },
    "id": "-ajxTgUaDkNc",
    "outputId": "73686d4e-66db-4f1c-e683-cfbaed5ec3ec"
   },
   "outputs": [],
   "source": [
    "train_set['Additional_Info'].unique()"
   ]
  },
  {
   "cell_type": "code",
   "execution_count": null,
   "metadata": {
    "colab": {
     "base_uri": "https://localhost:8080/"
    },
    "id": "RK2K3khVDkNe",
    "outputId": "3e2022b8-17d3-4564-c943-01afc9d39c8d"
   },
   "outputs": [],
   "source": [
    "train_set['Total_Stops'].unique()"
   ]
  },
  {
   "cell_type": "markdown",
   "metadata": {
    "id": "ppP-fVyUDkNg"
   },
   "source": [
    "## Duration into Hour and Minute"
   ]
  },
  {
   "cell_type": "code",
   "execution_count": null,
   "metadata": {
    "id": "fjMT_f-cDkNh"
   },
   "outputs": [],
   "source": [
    "h = train_set['Duration'].str.extract('(\\d+)h', expand=False).astype(float)\n",
    "m = train_set['Duration'].str.extract('(\\d+)m', expand=False).astype(float)\n",
    "train_set['Duration_Hour'] = h\n",
    "train_set['Duration_minute'] = m\n",
    "train_set['Duration_Hour'] = train_set['Duration_Hour'].fillna(0)\n",
    "train_set['Duration_minute'] = train_set['Duration_minute'].fillna(0)"
   ]
  },
  {
   "cell_type": "code",
   "execution_count": null,
   "metadata": {
    "id": "tcRg9RwfDkNi"
   },
   "outputs": [],
   "source": [
    "train_set.drop('Duration',axis=1,inplace=True)"
   ]
  },
  {
   "cell_type": "markdown",
   "metadata": {
    "id": "2HVZOxZpDkNj"
   },
   "source": [
    "## Date of Journey to Date and Month "
   ]
  },
  {
   "cell_type": "code",
   "execution_count": null,
   "metadata": {
    "id": "uCjV_rm-DkNk"
   },
   "outputs": [],
   "source": [
    "train_set['Date_of_Journey_date'] = pd.to_datetime(train_set['Date_of_Journey']).dt.day\n",
    "train_set['Date_of_Journey_month'] = pd.to_datetime(train_set['Date_of_Journey']).dt.month\n",
    "train_set.drop('Date_of_Journey',inplace=True,axis=1)"
   ]
  },
  {
   "cell_type": "markdown",
   "metadata": {
    "id": "1jdnwiTVDkNl"
   },
   "source": [
    "## Dep_Time Hour and Minute"
   ]
  },
  {
   "cell_type": "code",
   "execution_count": null,
   "metadata": {
    "id": "FivQbAdlDkNm"
   },
   "outputs": [],
   "source": [
    "arr = np.array(train_set['Dep_Time'])\n",
    "train_set['Dep_Time'] = pd.to_datetime(arr)\n",
    "train_set['Dep_Time_minute'] = train_set['Dep_Time'].dt.minute\n",
    "train_set['Dep_Time_hour'] = train_set['Dep_Time'].dt.hour\n",
    "train_set['Dep_Time_minute'] = train_set['Dep_Time_minute'].fillna(0)\n",
    "train_set['Dep_Time_hour'] = train_set['Dep_Time_hour'].fillna(0)\n",
    "train_set.drop('Dep_Time',axis=1,inplace=True)"
   ]
  },
  {
   "cell_type": "markdown",
   "metadata": {
    "id": "6wJPPKwpDkNo"
   },
   "source": [
    "## Arrival_Time Hour and Minute"
   ]
  },
  {
   "cell_type": "code",
   "execution_count": null,
   "metadata": {
    "id": "vX2kC6YTDkNp"
   },
   "outputs": [],
   "source": [
    "arr = np.array(train_set['Arrival_Time'])\n",
    "train_set['Arrival_Time'] = pd.to_datetime(arr)\n",
    "train_set['Arrival_Time_minute'] = train_set['Arrival_Time'].dt.minute\n",
    "train_set['Arrival_Time_hour'] = train_set['Arrival_Time'].dt.hour\n",
    "train_set['Arrival_Time_minute'] = train_set['Arrival_Time_minute'].fillna(0)\n",
    "train_set['Arrival_Time_hour'] = train_set['Arrival_Time_hour'].fillna(0)\n",
    "train_set.drop('Arrival_Time',axis=1,inplace=True)"
   ]
  },
  {
   "cell_type": "markdown",
   "metadata": {
    "id": "G2VOmu15DkNq"
   },
   "source": [
    "## Total_Stops mapping"
   ]
  },
  {
   "cell_type": "code",
   "execution_count": null,
   "metadata": {
    "id": "QOUM4637DkNq"
   },
   "outputs": [],
   "source": [
    "train_set = train_set.replace({'non-stop':0,'2 stops':2,'1 stop':1,'3 stops':3,'4 stops':4})"
   ]
  },
  {
   "cell_type": "markdown",
   "metadata": {
    "id": "pIfxKP7aDkNr"
   },
   "source": [
    "## Dropping Route and Additional_info"
   ]
  },
  {
   "cell_type": "code",
   "execution_count": null,
   "metadata": {
    "id": "HZk3wdZvDkNs"
   },
   "outputs": [],
   "source": [
    "train_set.drop(['Route','Additional_Info'],axis=1,inplace=True)"
   ]
  },
  {
   "cell_type": "markdown",
   "metadata": {
    "id": "J_28fSUoDkNt"
   },
   "source": [
    "## Creating Dummies for Airline, Source, Destination"
   ]
  },
  {
   "cell_type": "code",
   "execution_count": null,
   "metadata": {
    "id": "oF7qej0ODkNu"
   },
   "outputs": [],
   "source": [
    "train_set = train_set.join(pd.get_dummies(train_set[['Airline','Source','Destination']]))"
   ]
  },
  {
   "cell_type": "markdown",
   "metadata": {
    "id": "Twq7JCFJDkNu"
   },
   "source": [
    "## Dropping Airline, Source, Destination.\n"
   ]
  },
  {
   "cell_type": "code",
   "execution_count": null,
   "metadata": {
    "id": "754B1f5rDkNv"
   },
   "outputs": [],
   "source": [
    "train_set.drop(['Airline','Source','Destination'],inplace=True,axis=1)"
   ]
  },
  {
   "cell_type": "code",
   "execution_count": null,
   "metadata": {
    "colab": {
     "base_uri": "https://localhost:8080/",
     "height": 257
    },
    "id": "9gNYZ-ynDkNw",
    "outputId": "3d5aac7e-4d09-45a1-88a4-7bc6a8b2f087"
   },
   "outputs": [],
   "source": [
    "train_set.head(5)"
   ]
  },
  {
   "cell_type": "code",
   "execution_count": 166,
   "metadata": {
    "id": "tf6Z3diSDkNx"
   },
   "outputs": [],
   "source": [
    "x = train_set.drop('Price',axis=1)\n",
    "y = train_set['Price']\n",
    "scalar = StandardScaler()\n",
    "sc_model = scalar.fit_transform(x)"
   ]
  },
  {
   "cell_type": "markdown",
   "metadata": {
    "id": "gUP6urWiDkNz"
   },
   "source": [
    "# Test Dataset"
   ]
  },
  {
   "cell_type": "code",
   "execution_count": 167,
   "metadata": {
    "id": "3Hc7X_jTDkNz"
   },
   "outputs": [],
   "source": [
    "h = test_set['Duration'].str.extract('(\\d+)h', expand=False).astype(float)\n",
    "m = test_set['Duration'].str.extract('(\\d+)m', expand=False).astype(float)\n",
    "test_set['Duration_Hour'] = h\n",
    "test_set['Duration_minute'] = m\n",
    "test_set['Duration_Hour'] = test_set['Duration_Hour'].fillna(0)\n",
    "test_set['Duration_minute'] = test_set['Duration_minute'].fillna(0)"
   ]
  },
  {
   "cell_type": "code",
   "execution_count": 168,
   "metadata": {
    "id": "du_utVd_DkN0"
   },
   "outputs": [],
   "source": [
    "test_set.drop('Duration',axis=1,inplace=True)"
   ]
  },
  {
   "cell_type": "code",
   "execution_count": 169,
   "metadata": {
    "id": "FJv-5uqeDkN0"
   },
   "outputs": [],
   "source": [
    "test_set['Date_of_Journey_date'] = pd.to_datetime(test_set['Date_of_Journey']).dt.day\n",
    "test_set['Date_of_Journey_month'] = pd.to_datetime(test_set['Date_of_Journey']).dt.month\n",
    "test_set.drop('Date_of_Journey',inplace=True,axis=1)"
   ]
  },
  {
   "cell_type": "code",
   "execution_count": 170,
   "metadata": {
    "id": "c24KcQOjDkN1"
   },
   "outputs": [],
   "source": [
    "arr = np.array(test_set['Dep_Time'])\n",
    "test_set['Dep_Time'] = pd.to_datetime(arr)\n",
    "test_set['Dep_Time_minute'] = test_set['Dep_Time'].dt.minute\n",
    "test_set['Dep_Time_hour'] = test_set['Dep_Time'].dt.hour\n",
    "test_set['Dep_Time_minute'] = test_set['Dep_Time_minute'].fillna(0)\n",
    "test_set['Dep_Time_hour'] = test_set['Dep_Time_hour'].fillna(0)\n",
    "test_set.drop('Dep_Time',axis=1,inplace=True)"
   ]
  },
  {
   "cell_type": "code",
   "execution_count": 171,
   "metadata": {
    "id": "xvmnPQQADkN1"
   },
   "outputs": [],
   "source": [
    "arr = np.array(test_set['Arrival_Time'])\n",
    "test_set['Arrival_Time'] = pd.to_datetime(arr)\n",
    "test_set['Arrival_Time_minute'] = test_set['Arrival_Time'].dt.minute\n",
    "test_set['Arrival_Time_hour'] = test_set['Arrival_Time'].dt.hour\n",
    "test_set['Arrival_Time_minute'] = test_set['Arrival_Time_minute'].fillna(0)\n",
    "test_set['Arrival_Time_hour'] = test_set['Arrival_Time_hour'].fillna(0)\n",
    "test_set.drop('Arrival_Time',axis=1,inplace=True)"
   ]
  },
  {
   "cell_type": "code",
   "execution_count": 172,
   "metadata": {
    "id": "DwYJFbZwDkN2"
   },
   "outputs": [],
   "source": [
    "test_set = test_set.replace({'non-stop':0,'2 stops':2,'1 stop':1,'3 stops':3,'4 stops':4})"
   ]
  },
  {
   "cell_type": "code",
   "execution_count": 173,
   "metadata": {
    "id": "697NeJVGDkN3"
   },
   "outputs": [],
   "source": [
    "test_set.drop(['Route','Additional_Info'],axis=1,inplace=True)"
   ]
  },
  {
   "cell_type": "code",
   "execution_count": 174,
   "metadata": {
    "id": "VTTmHDheDkN3"
   },
   "outputs": [],
   "source": [
    "test_set = test_set.join(pd.get_dummies(test_set[['Airline','Source','Destination']]))"
   ]
  },
  {
   "cell_type": "code",
   "execution_count": 175,
   "metadata": {
    "id": "TWX_nTq2DkN4"
   },
   "outputs": [],
   "source": [
    "test_set.drop(['Airline','Source','Destination'],inplace=True,axis=1)"
   ]
  },
  {
   "cell_type": "code",
   "execution_count": 176,
   "metadata": {
    "id": "eIWVq75sDkN4"
   },
   "outputs": [],
   "source": [
    "test_set['Airline_Trujet'] = 0\n",
    "scalar = StandardScaler()\n",
    "sc_model = scalar.fit(test_set)\n",
    "X_test_scaled = sc_model.transform(x)\n"
   ]
  },
  {
   "cell_type": "code",
   "execution_count": 177,
   "metadata": {
    "id": "puVwyl6CDkN4"
   },
   "outputs": [],
   "source": [
    "y_predict = model.predict(X_test_scaled)"
   ]
  },
  {
   "cell_type": "code",
   "execution_count": 178,
   "metadata": {
    "colab": {
     "base_uri": "https://localhost:8080/"
    },
    "id": "_JNzY4XPDkN5",
    "outputId": "02c9483f-496d-4d90-c059-d4335b3b050c"
   },
   "outputs": [
    {
     "data": {
      "text/plain": [
       "ExtraTreesRegressor(bootstrap=False, ccp_alpha=0.0, criterion='mse',\n",
       "                    max_depth=None, max_features='auto', max_leaf_nodes=None,\n",
       "                    max_samples=None, min_impurity_decrease=0.0,\n",
       "                    min_impurity_split=None, min_samples_leaf=1,\n",
       "                    min_samples_split=2, min_weight_fraction_leaf=0.0,\n",
       "                    n_estimators=100, n_jobs=None, oob_score=False,\n",
       "                    random_state=None, verbose=0, warm_start=False)"
      ]
     },
     "execution_count": 178,
     "metadata": {},
     "output_type": "execute_result"
    }
   ],
   "source": [
    "from sklearn.ensemble import ExtraTreesRegressor\n",
    "selection = ExtraTreesRegressor()\n",
    "selection.fit(x,y)"
   ]
  },
  {
   "cell_type": "code",
   "execution_count": 179,
   "metadata": {
    "colab": {
     "base_uri": "https://localhost:8080/"
    },
    "id": "TXMFulNSDkN5",
    "outputId": "a93cb370-c384-48b0-e6ae-a10800c5c73b"
   },
   "outputs": [
    {
     "name": "stdout",
     "output_type": "stream",
     "text": [
      "[2.19423238e-01 1.33077347e-01 1.82219943e-02 1.10261166e-01\n",
      " 8.46957297e-02 2.15509189e-02 2.50810237e-02 2.07659434e-02\n",
      " 2.83826213e-02 2.11134587e-03 9.11674946e-03 1.72976064e-03\n",
      " 1.65767823e-02 1.39580287e-01 6.64150418e-02 1.87854713e-02\n",
      " 8.59566868e-04 2.86938806e-03 9.37941487e-05 4.78566334e-03\n",
      " 1.36907826e-04 7.55843769e-03 5.75397544e-04 8.31246386e-03\n",
      " 2.06825082e-03 6.29171381e-03 2.38827122e-03 7.07841326e-03\n",
      " 1.65412505e-02 8.30555513e-03 5.30729580e-04 1.58287754e-02]\n"
     ]
    }
   ],
   "source": [
    "print(selection.feature_importances_)"
   ]
  },
  {
   "cell_type": "code",
   "execution_count": 180,
   "metadata": {
    "colab": {
     "base_uri": "https://localhost:8080/",
     "height": 483
    },
    "id": "LIuTg7K5DkN6",
    "outputId": "02c913b4-1cbc-408d-98ec-cf2a75e61daf"
   },
   "outputs": [
    {
     "data": {
      "image/png": "[encoded data removed]",
      "text/plain": [
       "<Figure size 864x576 with 1 Axes>"
      ]
     },
     "metadata": {
      "needs_background": "light"
     },
     "output_type": "display_data"
    }
   ],
   "source": [
    "plt.figure(figsize=(12,8))\n",
    "feat_imp = pd.Series(selection.feature_importances_,index = x.columns)\n",
    "feat_imp.nlargest(20).plot(kind='barh')\n",
    "plt.show()"
   ]
  },
  {
   "cell_type": "markdown",
   "metadata": {
    "id": "g-q07N_mDkN6"
   },
   "source": [
    "## Training and Testing"
   ]
  },
  {
   "cell_type": "code",
   "execution_count": 181,
   "metadata": {
    "id": "uebgq-USDkN7"
   },
   "outputs": [],
   "source": [
    "X_train, X_test, y_train, y_test = train_test_split(X_scaled, y, test_size=0.33, random_state=42)"
   ]
  },
  {
   "cell_type": "code",
   "execution_count": 182,
   "metadata": {
    "id": "eQWPirrDD_Cj"
   },
   "outputs": [],
   "source": [
    "xgs = XGBRegressor()"
   ]
  },
  {
   "cell_type": "code",
   "execution_count": 183,
   "metadata": {
    "id": "Mgi7zyqiD_FS"
   },
   "outputs": [],
   "source": [
    "xgs_model = xgs.fit(X_train,y_train)\n",
    "y_pred = xgs_model.predict(X_test)"
   ]
  },
  {
   "cell_type": "code",
   "execution_count": 184,
   "metadata": {
    "colab": {
     "base_uri": "https://localhost:8080/",
     "height": 350
    },
    "id": "_050oOBrD_H_",
    "outputId": "ad794c87-e91e-4f06-f5ed-7883f1cee3a5"
   },
   "outputs": [
    {
     "name": "stderr",
     "output_type": "stream",
     "text": [
      "/usr/local/lib/python3.7/dist-packages/seaborn/distributions.py:2557: FutureWarning: `distplot` is a deprecated function and will be removed in a future version. Please adapt your code to use either `displot` (a figure-level function with similar flexibility) or `histplot` (an axes-level function for histograms).\n",
      "  warnings.warn(msg, FutureWarning)\n"
     ]
    },
    {
     "data": {
      "text/plain": [
       "<matplotlib.axes._subplots.AxesSubplot at 0x7fb2a5c6ec10>"
      ]
     },
     "execution_count": 184,
     "metadata": {},
     "output_type": "execute_result"
    },
    {
     "data": {
      "image/png": "[encoded data removed]",
      "text/plain": [
       "<Figure size 432x288 with 1 Axes>"
      ]
     },
     "metadata": {
      "needs_background": "light"
     },
     "output_type": "display_data"
    }
   ],
   "source": [
    "sns.distplot(y_test-y_pred)"
   ]
  },
  {
   "cell_type": "code",
   "execution_count": 185,
   "metadata": {
    "colab": {
     "base_uri": "https://localhost:8080/"
    },
    "id": "adzJO_KWEX3P",
    "outputId": "8a5b59dc-7bf9-46d2-c001-c05ccb71f38a"
   },
   "outputs": [
    {
     "data": {
      "text/plain": [
       "3037090.891512459"
      ]
     },
     "execution_count": 185,
     "metadata": {},
     "output_type": "execute_result"
    }
   ],
   "source": [
    "mean_squared_error(y_test,y_pred)"
   ]
  },
  {
   "cell_type": "markdown",
   "metadata": {
    "id": "8X0uaqOlp5hT"
   },
   "source": [
    "## Paramter Tuning"
   ]
  },
  {
   "cell_type": "code",
   "execution_count": 186,
   "metadata": {
    "id": "xs328p3kdni7"
   },
   "outputs": [],
   "source": [
    "param_grid={\n",
    "    'learning_rate':[1,0.5,0.1,0.01,0.001],\n",
    "    'max_depth': [3,5,10,20],\n",
    "    'n_estimators':[10,50,100,200]\n",
    "}"
   ]
  },
  {
   "cell_type": "code",
   "execution_count": 187,
   "metadata": {
    "colab": {
     "base_uri": "https://localhost:8080/"
    },
    "id": "ZBqlbA4Rdnlm",
    "outputId": "858ae0ec-1b3f-433c-c85e-275b08c96c29"
   },
   "outputs": [
    {
     "name": "stdout",
     "output_type": "stream",
     "text": [
      "Fitting 5 folds for each of 80 candidates, totalling 400 fits\n",
      "[CV] learning_rate=1, max_depth=3, n_estimators=10 ...................\n",
      "[CV]  learning_rate=1, max_depth=3, n_estimators=10, score=0.754, total=   0.1s\n",
      "[CV] learning_rate=1, max_depth=3, n_estimators=10 ...................\n",
      "[CV]  learning_rate=1, max_depth=3, n_estimators=10, score=0.747, total=   0.1s\n",
      "[CV] learning_rate=1, max_depth=3, n_estimators=10 ...................\n"
     ]
    },
    {
     "name": "stderr",
     "output_type": "stream",
     "text": [
      "[Parallel(n_jobs=1)]: Using backend SequentialBackend with 1 concurrent workers.\n",
      "[Parallel(n_jobs=1)]: Done   1 out of   1 | elapsed:    0.1s remaining:    0.0s\n",
      "[Parallel(n_jobs=1)]: Done   2 out of   2 | elapsed:    0.2s remaining:    0.0s\n"
     ]
    },
    {
     "name": "stdout",
     "output_type": "stream",
     "text": [
      "[CV]  learning_rate=1, max_depth=3, n_estimators=10, score=0.776, total=   0.1s\n",
      "[CV] learning_rate=1, max_depth=3, n_estimators=10 ...................\n",
      "[CV]  learning_rate=1, max_depth=3, n_estimators=10, score=0.669, total=   0.1s\n",
      "[CV] learning_rate=1, max_depth=3, n_estimators=10 ...................\n",
      "[CV]  learning_rate=1, max_depth=3, n_estimators=10, score=0.739, total=   0.1s\n",
      "[CV] learning_rate=1, max_depth=3, n_estimators=50 ...................\n",
      "[CV]  learning_rate=1, max_depth=3, n_estimators=50, score=0.799, total=   0.3s\n",
      "[CV] learning_rate=1, max_depth=3, n_estimators=50 ...................\n",
      "[CV]  learning_rate=1, max_depth=3, n_estimators=50, score=0.747, total=   0.2s\n",
      "[CV] learning_rate=1, max_depth=3, n_estimators=50 ...................\n",
      "[CV]  learning_rate=1, max_depth=3, n_estimators=50, score=0.820, total=   0.3s\n",
      "[CV] learning_rate=1, max_depth=3, n_estimators=50 ...................\n",
      "[CV]  learning_rate=1, max_depth=3, n_estimators=50, score=0.716, total=   0.3s\n",
      "[CV] learning_rate=1, max_depth=3, n_estimators=50 ...................\n",
      "[CV]  learning_rate=1, max_depth=3, n_estimators=50, score=0.773, total=   0.2s\n",
      "[CV] learning_rate=1, max_depth=3, n_estimators=100 ..................\n",
      "[CV]  learning_rate=1, max_depth=3, n_estimators=100, score=0.805, total=   0.5s\n",
      "[CV] learning_rate=1, max_depth=3, n_estimators=100 ..................\n",
      "[CV]  learning_rate=1, max_depth=3, n_estimators=100, score=0.745, total=   0.5s\n",
      "[CV] learning_rate=1, max_depth=3, n_estimators=100 ..................\n",
      "[CV]  learning_rate=1, max_depth=3, n_estimators=100, score=0.824, total=   0.5s\n",
      "[CV] learning_rate=1, max_depth=3, n_estimators=100 ..................\n",
      "[CV]  learning_rate=1, max_depth=3, n_estimators=100, score=0.740, total=   0.5s\n",
      "[CV] learning_rate=1, max_depth=3, n_estimators=100 ..................\n",
      "[CV]  learning_rate=1, max_depth=3, n_estimators=100, score=0.774, total=   0.5s\n",
      "[CV] learning_rate=1, max_depth=3, n_estimators=200 ..................\n",
      "[CV]  learning_rate=1, max_depth=3, n_estimators=200, score=0.817, total=   0.9s\n",
      "[CV] learning_rate=1, max_depth=3, n_estimators=200 ..................\n",
      "[CV]  learning_rate=1, max_depth=3, n_estimators=200, score=0.745, total=   0.9s\n",
      "[CV] learning_rate=1, max_depth=3, n_estimators=200 ..................\n",
      "[CV]  learning_rate=1, max_depth=3, n_estimators=200, score=0.820, total=   0.9s\n",
      "[CV] learning_rate=1, max_depth=3, n_estimators=200 ..................\n",
      "[CV]  learning_rate=1, max_depth=3, n_estimators=200, score=0.746, total=   0.9s\n",
      "[CV] learning_rate=1, max_depth=3, n_estimators=200 ..................\n",
      "[CV]  learning_rate=1, max_depth=3, n_estimators=200, score=0.780, total=   0.9s\n",
      "[CV] learning_rate=1, max_depth=5, n_estimators=10 ...................\n",
      "[CV]  learning_rate=1, max_depth=5, n_estimators=10, score=0.788, total=   0.1s\n",
      "[CV] learning_rate=1, max_depth=5, n_estimators=10 ...................\n",
      "[CV]  learning_rate=1, max_depth=5, n_estimators=10, score=0.762, total=   0.1s\n",
      "[CV] learning_rate=1, max_depth=5, n_estimators=10 ...................\n",
      "[CV]  learning_rate=1, max_depth=5, n_estimators=10, score=0.777, total=   0.1s\n",
      "[CV] learning_rate=1, max_depth=5, n_estimators=10 ...................\n",
      "[CV]  learning_rate=1, max_depth=5, n_estimators=10, score=0.714, total=   0.1s\n",
      "[CV] learning_rate=1, max_depth=5, n_estimators=10 ...................\n",
      "[CV]  learning_rate=1, max_depth=5, n_estimators=10, score=0.747, total=   0.1s\n",
      "[CV] learning_rate=1, max_depth=5, n_estimators=50 ...................\n",
      "[CV]  learning_rate=1, max_depth=5, n_estimators=50, score=0.812, total=   0.4s\n",
      "[CV] learning_rate=1, max_depth=5, n_estimators=50 ...................\n",
      "[CV]  learning_rate=1, max_depth=5, n_estimators=50, score=0.765, total=   0.4s\n",
      "[CV] learning_rate=1, max_depth=5, n_estimators=50 ...................\n",
      "[CV]  learning_rate=1, max_depth=5, n_estimators=50, score=0.787, total=   0.4s\n",
      "[CV] learning_rate=1, max_depth=5, n_estimators=50 ...................\n",
      "[CV]  learning_rate=1, max_depth=5, n_estimators=50, score=0.725, total=   0.4s\n",
      "[CV] learning_rate=1, max_depth=5, n_estimators=50 ...................\n",
      "[CV]  learning_rate=1, max_depth=5, n_estimators=50, score=0.725, total=   0.4s\n",
      "[CV] learning_rate=1, max_depth=5, n_estimators=100 ..................\n",
      "[CV]  learning_rate=1, max_depth=5, n_estimators=100, score=0.803, total=   0.7s\n",
      "[CV] learning_rate=1, max_depth=5, n_estimators=100 ..................\n",
      "[CV]  learning_rate=1, max_depth=5, n_estimators=100, score=0.755, total=   0.7s\n",
      "[CV] learning_rate=1, max_depth=5, n_estimators=100 ..................\n",
      "[CV]  learning_rate=1, max_depth=5, n_estimators=100, score=0.778, total=   0.8s\n",
      "[CV] learning_rate=1, max_depth=5, n_estimators=100 ..................\n",
      "[CV]  learning_rate=1, max_depth=5, n_estimators=100, score=0.713, total=   0.7s\n",
      "[CV] learning_rate=1, max_depth=5, n_estimators=100 ..................\n",
      "[CV]  learning_rate=1, max_depth=5, n_estimators=100, score=0.719, total=   0.7s\n",
      "[CV] learning_rate=1, max_depth=5, n_estimators=200 ..................\n",
      "[CV]  learning_rate=1, max_depth=5, n_estimators=200, score=0.785, total=   1.5s\n",
      "[CV] learning_rate=1, max_depth=5, n_estimators=200 ..................\n",
      "[CV]  learning_rate=1, max_depth=5, n_estimators=200, score=0.746, total=   1.4s\n",
      "[CV] learning_rate=1, max_depth=5, n_estimators=200 ..................\n",
      "[CV]  learning_rate=1, max_depth=5, n_estimators=200, score=0.765, total=   1.5s\n",
      "[CV] learning_rate=1, max_depth=5, n_estimators=200 ..................\n",
      "[CV]  learning_rate=1, max_depth=5, n_estimators=200, score=0.701, total=   1.5s\n",
      "[CV] learning_rate=1, max_depth=5, n_estimators=200 ..................\n",
      "[CV]  learning_rate=1, max_depth=5, n_estimators=200, score=0.700, total=   1.5s\n",
      "[CV] learning_rate=1, max_depth=10, n_estimators=10 ..................\n",
      "[CV]  learning_rate=1, max_depth=10, n_estimators=10, score=0.781, total=   0.2s\n",
      "[CV] learning_rate=1, max_depth=10, n_estimators=10 ..................\n",
      "[CV]  learning_rate=1, max_depth=10, n_estimators=10, score=0.736, total=   0.2s\n",
      "[CV] learning_rate=1, max_depth=10, n_estimators=10 ..................\n",
      "[CV]  learning_rate=1, max_depth=10, n_estimators=10, score=0.743, total=   0.2s\n",
      "[CV] learning_rate=1, max_depth=10, n_estimators=10 ..................\n",
      "[CV]  learning_rate=1, max_depth=10, n_estimators=10, score=0.680, total=   0.2s\n",
      "[CV] learning_rate=1, max_depth=10, n_estimators=10 ..................\n",
      "[CV]  learning_rate=1, max_depth=10, n_estimators=10, score=0.735, total=   0.2s\n",
      "[CV] learning_rate=1, max_depth=10, n_estimators=50 ..................\n",
      "[CV]  learning_rate=1, max_depth=10, n_estimators=50, score=0.739, total=   0.8s\n",
      "[CV] learning_rate=1, max_depth=10, n_estimators=50 ..................\n",
      "[CV]  learning_rate=1, max_depth=10, n_estimators=50, score=0.701, total=   0.8s\n",
      "[CV] learning_rate=1, max_depth=10, n_estimators=50 ..................\n",
      "[CV]  learning_rate=1, max_depth=10, n_estimators=50, score=0.717, total=   0.8s\n",
      "[CV] learning_rate=1, max_depth=10, n_estimators=50 ..................\n",
      "[CV]  learning_rate=1, max_depth=10, n_estimators=50, score=0.645, total=   0.9s\n",
      "[CV] learning_rate=1, max_depth=10, n_estimators=50 ..................\n",
      "[CV]  learning_rate=1, max_depth=10, n_estimators=50, score=0.703, total=   0.8s\n",
      "[CV] learning_rate=1, max_depth=10, n_estimators=100 .................\n",
      "[CV]  learning_rate=1, max_depth=10, n_estimators=100, score=0.737, total=   1.7s\n",
      "[CV] learning_rate=1, max_depth=10, n_estimators=100 .................\n",
      "[CV]  learning_rate=1, max_depth=10, n_estimators=100, score=0.700, total=   1.7s\n",
      "[CV] learning_rate=1, max_depth=10, n_estimators=100 .................\n",
      "[CV]  learning_rate=1, max_depth=10, n_estimators=100, score=0.717, total=   1.6s\n",
      "[CV] learning_rate=1, max_depth=10, n_estimators=100 .................\n",
      "[CV]  learning_rate=1, max_depth=10, n_estimators=100, score=0.644, total=   1.7s\n",
      "[CV] learning_rate=1, max_depth=10, n_estimators=100 .................\n",
      "[CV]  learning_rate=1, max_depth=10, n_estimators=100, score=0.702, total=   1.7s\n",
      "[CV] learning_rate=1, max_depth=10, n_estimators=200 .................\n",
      "[CV]  learning_rate=1, max_depth=10, n_estimators=200, score=0.737, total=   3.2s\n",
      "[CV] learning_rate=1, max_depth=10, n_estimators=200 .................\n",
      "[CV]  learning_rate=1, max_depth=10, n_estimators=200, score=0.700, total=   3.2s\n",
      "[CV] learning_rate=1, max_depth=10, n_estimators=200 .................\n",
      "[CV]  learning_rate=1, max_depth=10, n_estimators=200, score=0.717, total=   3.1s\n",
      "[CV] learning_rate=1, max_depth=10, n_estimators=200 .................\n",
      "[CV]  learning_rate=1, max_depth=10, n_estimators=200, score=0.644, total=   3.2s\n",
      "[CV] learning_rate=1, max_depth=10, n_estimators=200 .................\n",
      "[CV]  learning_rate=1, max_depth=10, n_estimators=200, score=0.702, total=   3.1s\n",
      "[CV] learning_rate=1, max_depth=20, n_estimators=10 ..................\n",
      "[CV]  learning_rate=1, max_depth=20, n_estimators=10, score=0.743, total=   0.4s\n",
      "[CV] learning_rate=1, max_depth=20, n_estimators=10 ..................\n",
      "[CV]  learning_rate=1, max_depth=20, n_estimators=10, score=0.691, total=   0.4s\n",
      "[CV] learning_rate=1, max_depth=20, n_estimators=10 ..................\n",
      "[CV]  learning_rate=1, max_depth=20, n_estimators=10, score=0.714, total=   0.4s\n",
      "[CV] learning_rate=1, max_depth=20, n_estimators=10 ..................\n",
      "[CV]  learning_rate=1, max_depth=20, n_estimators=10, score=0.624, total=   0.4s\n",
      "[CV] learning_rate=1, max_depth=20, n_estimators=10 ..................\n",
      "[CV]  learning_rate=1, max_depth=20, n_estimators=10, score=0.691, total=   0.4s\n",
      "[CV] learning_rate=1, max_depth=20, n_estimators=50 ..................\n",
      "[CV]  learning_rate=1, max_depth=20, n_estimators=50, score=0.742, total=   1.1s\n",
      "[CV] learning_rate=1, max_depth=20, n_estimators=50 ..................\n",
      "[CV]  learning_rate=1, max_depth=20, n_estimators=50, score=0.691, total=   1.1s\n",
      "[CV] learning_rate=1, max_depth=20, n_estimators=50 ..................\n",
      "[CV]  learning_rate=1, max_depth=20, n_estimators=50, score=0.713, total=   1.0s\n",
      "[CV] learning_rate=1, max_depth=20, n_estimators=50 ..................\n",
      "[CV]  learning_rate=1, max_depth=20, n_estimators=50, score=0.624, total=   1.0s\n",
      "[CV] learning_rate=1, max_depth=20, n_estimators=50 ..................\n",
      "[CV]  learning_rate=1, max_depth=20, n_estimators=50, score=0.691, total=   1.0s\n",
      "[CV] learning_rate=1, max_depth=20, n_estimators=100 .................\n",
      "[CV]  learning_rate=1, max_depth=20, n_estimators=100, score=0.742, total=   1.3s\n",
      "[CV] learning_rate=1, max_depth=20, n_estimators=100 .................\n",
      "[CV]  learning_rate=1, max_depth=20, n_estimators=100, score=0.691, total=   1.3s\n",
      "[CV] learning_rate=1, max_depth=20, n_estimators=100 .................\n",
      "[CV]  learning_rate=1, max_depth=20, n_estimators=100, score=0.713, total=   1.1s\n",
      "[CV] learning_rate=1, max_depth=20, n_estimators=100 .................\n",
      "[CV]  learning_rate=1, max_depth=20, n_estimators=100, score=0.624, total=   1.1s\n",
      "[CV] learning_rate=1, max_depth=20, n_estimators=100 .................\n",
      "[CV]  learning_rate=1, max_depth=20, n_estimators=100, score=0.691, total=   1.2s\n",
      "[CV] learning_rate=1, max_depth=20, n_estimators=200 .................\n",
      "[CV]  learning_rate=1, max_depth=20, n_estimators=200, score=0.742, total=   1.6s\n",
      "[CV] learning_rate=1, max_depth=20, n_estimators=200 .................\n",
      "[CV]  learning_rate=1, max_depth=20, n_estimators=200, score=0.691, total=   1.6s\n",
      "[CV] learning_rate=1, max_depth=20, n_estimators=200 .................\n",
      "[CV]  learning_rate=1, max_depth=20, n_estimators=200, score=0.713, total=   1.3s\n",
      "[CV] learning_rate=1, max_depth=20, n_estimators=200 .................\n",
      "[CV]  learning_rate=1, max_depth=20, n_estimators=200, score=0.624, total=   1.3s\n",
      "[CV] learning_rate=1, max_depth=20, n_estimators=200 .................\n",
      "[CV]  learning_rate=1, max_depth=20, n_estimators=200, score=0.691, total=   1.4s\n",
      "[CV] learning_rate=0.5, max_depth=3, n_estimators=10 .................\n",
      "[CV]  learning_rate=0.5, max_depth=3, n_estimators=10, score=0.750, total=   0.1s\n",
      "[CV] learning_rate=0.5, max_depth=3, n_estimators=10 .................\n",
      "[CV]  learning_rate=0.5, max_depth=3, n_estimators=10, score=0.728, total=   0.1s\n",
      "[CV] learning_rate=0.5, max_depth=3, n_estimators=10 .................\n",
      "[CV]  learning_rate=0.5, max_depth=3, n_estimators=10, score=0.764, total=   0.1s\n",
      "[CV] learning_rate=0.5, max_depth=3, n_estimators=10 .................\n",
      "[CV]  learning_rate=0.5, max_depth=3, n_estimators=10, score=0.676, total=   0.1s\n",
      "[CV] learning_rate=0.5, max_depth=3, n_estimators=10 .................\n",
      "[CV]  learning_rate=0.5, max_depth=3, n_estimators=10, score=0.737, total=   0.1s\n",
      "[CV] learning_rate=0.5, max_depth=3, n_estimators=50 .................\n",
      "[CV]  learning_rate=0.5, max_depth=3, n_estimators=50, score=0.802, total=   0.2s\n",
      "[CV] learning_rate=0.5, max_depth=3, n_estimators=50 .................\n",
      "[CV]  learning_rate=0.5, max_depth=3, n_estimators=50, score=0.773, total=   0.2s\n",
      "[CV] learning_rate=0.5, max_depth=3, n_estimators=50 .................\n",
      "[CV]  learning_rate=0.5, max_depth=3, n_estimators=50, score=0.804, total=   0.2s\n",
      "[CV] learning_rate=0.5, max_depth=3, n_estimators=50 .................\n",
      "[CV]  learning_rate=0.5, max_depth=3, n_estimators=50, score=0.739, total=   0.3s\n",
      "[CV] learning_rate=0.5, max_depth=3, n_estimators=50 .................\n",
      "[CV]  learning_rate=0.5, max_depth=3, n_estimators=50, score=0.781, total=   0.2s\n",
      "[CV] learning_rate=0.5, max_depth=3, n_estimators=100 ................\n",
      "[CV]  learning_rate=0.5, max_depth=3, n_estimators=100, score=0.821, total=   0.5s\n",
      "[CV] learning_rate=0.5, max_depth=3, n_estimators=100 ................\n",
      "[CV]  learning_rate=0.5, max_depth=3, n_estimators=100, score=0.793, total=   0.5s\n",
      "[CV] learning_rate=0.5, max_depth=3, n_estimators=100 ................\n",
      "[CV]  learning_rate=0.5, max_depth=3, n_estimators=100, score=0.810, total=   0.5s\n",
      "[CV] learning_rate=0.5, max_depth=3, n_estimators=100 ................\n",
      "[CV]  learning_rate=0.5, max_depth=3, n_estimators=100, score=0.768, total=   0.5s\n",
      "[CV] learning_rate=0.5, max_depth=3, n_estimators=100 ................\n",
      "[CV]  learning_rate=0.5, max_depth=3, n_estimators=100, score=0.791, total=   0.5s\n",
      "[CV] learning_rate=0.5, max_depth=3, n_estimators=200 ................\n",
      "[CV]  learning_rate=0.5, max_depth=3, n_estimators=200, score=0.831, total=   0.9s\n",
      "[CV] learning_rate=0.5, max_depth=3, n_estimators=200 ................\n",
      "[CV]  learning_rate=0.5, max_depth=3, n_estimators=200, score=0.792, total=   0.9s\n",
      "[CV] learning_rate=0.5, max_depth=3, n_estimators=200 ................\n",
      "[CV]  learning_rate=0.5, max_depth=3, n_estimators=200, score=0.793, total=   0.9s\n",
      "[CV] learning_rate=0.5, max_depth=3, n_estimators=200 ................\n",
      "[CV]  learning_rate=0.5, max_depth=3, n_estimators=200, score=0.779, total=   0.9s\n",
      "[CV] learning_rate=0.5, max_depth=3, n_estimators=200 ................\n",
      "[CV]  learning_rate=0.5, max_depth=3, n_estimators=200, score=0.796, total=   0.9s\n",
      "[CV] learning_rate=0.5, max_depth=5, n_estimators=10 .................\n",
      "[CV]  learning_rate=0.5, max_depth=5, n_estimators=10, score=0.795, total=   0.1s\n",
      "[CV] learning_rate=0.5, max_depth=5, n_estimators=10 .................\n",
      "[CV]  learning_rate=0.5, max_depth=5, n_estimators=10, score=0.765, total=   0.1s\n",
      "[CV] learning_rate=0.5, max_depth=5, n_estimators=10 .................\n",
      "[CV]  learning_rate=0.5, max_depth=5, n_estimators=10, score=0.789, total=   0.1s\n",
      "[CV] learning_rate=0.5, max_depth=5, n_estimators=10 .................\n",
      "[CV]  learning_rate=0.5, max_depth=5, n_estimators=10, score=0.704, total=   0.1s\n",
      "[CV] learning_rate=0.5, max_depth=5, n_estimators=10 .................\n",
      "[CV]  learning_rate=0.5, max_depth=5, n_estimators=10, score=0.778, total=   0.1s\n",
      "[CV] learning_rate=0.5, max_depth=5, n_estimators=50 .................\n",
      "[CV]  learning_rate=0.5, max_depth=5, n_estimators=50, score=0.836, total=   0.4s\n",
      "[CV] learning_rate=0.5, max_depth=5, n_estimators=50 .................\n",
      "[CV]  learning_rate=0.5, max_depth=5, n_estimators=50, score=0.796, total=   0.4s\n",
      "[CV] learning_rate=0.5, max_depth=5, n_estimators=50 .................\n",
      "[CV]  learning_rate=0.5, max_depth=5, n_estimators=50, score=0.802, total=   0.4s\n",
      "[CV] learning_rate=0.5, max_depth=5, n_estimators=50 .................\n",
      "[CV]  learning_rate=0.5, max_depth=5, n_estimators=50, score=0.759, total=   0.4s\n",
      "[CV] learning_rate=0.5, max_depth=5, n_estimators=50 .................\n",
      "[CV]  learning_rate=0.5, max_depth=5, n_estimators=50, score=0.816, total=   0.4s\n",
      "[CV] learning_rate=0.5, max_depth=5, n_estimators=100 ................\n",
      "[CV]  learning_rate=0.5, max_depth=5, n_estimators=100, score=0.838, total=   0.7s\n",
      "[CV] learning_rate=0.5, max_depth=5, n_estimators=100 ................\n",
      "[CV]  learning_rate=0.5, max_depth=5, n_estimators=100, score=0.793, total=   0.7s\n",
      "[CV] learning_rate=0.5, max_depth=5, n_estimators=100 ................\n",
      "[CV]  learning_rate=0.5, max_depth=5, n_estimators=100, score=0.798, total=   0.7s\n",
      "[CV] learning_rate=0.5, max_depth=5, n_estimators=100 ................\n",
      "[CV]  learning_rate=0.5, max_depth=5, n_estimators=100, score=0.757, total=   0.7s\n",
      "[CV] learning_rate=0.5, max_depth=5, n_estimators=100 ................\n",
      "[CV]  learning_rate=0.5, max_depth=5, n_estimators=100, score=0.811, total=   0.7s\n",
      "[CV] learning_rate=0.5, max_depth=5, n_estimators=200 ................\n",
      "[CV]  learning_rate=0.5, max_depth=5, n_estimators=200, score=0.831, total=   1.4s\n",
      "[CV] learning_rate=0.5, max_depth=5, n_estimators=200 ................\n",
      "[CV]  learning_rate=0.5, max_depth=5, n_estimators=200, score=0.785, total=   1.4s\n",
      "[CV] learning_rate=0.5, max_depth=5, n_estimators=200 ................\n",
      "[CV]  learning_rate=0.5, max_depth=5, n_estimators=200, score=0.787, total=   1.4s\n",
      "[CV] learning_rate=0.5, max_depth=5, n_estimators=200 ................\n",
      "[CV]  learning_rate=0.5, max_depth=5, n_estimators=200, score=0.754, total=   1.5s\n",
      "[CV] learning_rate=0.5, max_depth=5, n_estimators=200 ................\n",
      "[CV]  learning_rate=0.5, max_depth=5, n_estimators=200, score=0.797, total=   1.4s\n",
      "[CV] learning_rate=0.5, max_depth=10, n_estimators=10 ................\n",
      "[CV]  learning_rate=0.5, max_depth=10, n_estimators=10, score=0.833, total=   0.2s\n",
      "[CV] learning_rate=0.5, max_depth=10, n_estimators=10 ................\n",
      "[CV]  learning_rate=0.5, max_depth=10, n_estimators=10, score=0.743, total=   0.2s\n",
      "[CV] learning_rate=0.5, max_depth=10, n_estimators=10 ................\n",
      "[CV]  learning_rate=0.5, max_depth=10, n_estimators=10, score=0.839, total=   0.2s\n",
      "[CV] learning_rate=0.5, max_depth=10, n_estimators=10 ................\n",
      "[CV]  learning_rate=0.5, max_depth=10, n_estimators=10, score=0.709, total=   0.2s\n",
      "[CV] learning_rate=0.5, max_depth=10, n_estimators=10 ................\n",
      "[CV]  learning_rate=0.5, max_depth=10, n_estimators=10, score=0.788, total=   0.2s\n",
      "[CV] learning_rate=0.5, max_depth=10, n_estimators=50 ................\n",
      "[CV]  learning_rate=0.5, max_depth=10, n_estimators=50, score=0.788, total=   0.8s\n",
      "[CV] learning_rate=0.5, max_depth=10, n_estimators=50 ................\n",
      "[CV]  learning_rate=0.5, max_depth=10, n_estimators=50, score=0.707, total=   0.8s\n",
      "[CV] learning_rate=0.5, max_depth=10, n_estimators=50 ................\n",
      "[CV]  learning_rate=0.5, max_depth=10, n_estimators=50, score=0.810, total=   0.8s\n",
      "[CV] learning_rate=0.5, max_depth=10, n_estimators=50 ................\n",
      "[CV]  learning_rate=0.5, max_depth=10, n_estimators=50, score=0.674, total=   0.8s\n",
      "[CV] learning_rate=0.5, max_depth=10, n_estimators=50 ................\n",
      "[CV]  learning_rate=0.5, max_depth=10, n_estimators=50, score=0.737, total=   0.8s\n",
      "[CV] learning_rate=0.5, max_depth=10, n_estimators=100 ...............\n",
      "[CV]  learning_rate=0.5, max_depth=10, n_estimators=100, score=0.779, total=   1.6s\n",
      "[CV] learning_rate=0.5, max_depth=10, n_estimators=100 ...............\n",
      "[CV]  learning_rate=0.5, max_depth=10, n_estimators=100, score=0.698, total=   1.6s\n",
      "[CV] learning_rate=0.5, max_depth=10, n_estimators=100 ...............\n",
      "[CV]  learning_rate=0.5, max_depth=10, n_estimators=100, score=0.806, total=   1.6s\n",
      "[CV] learning_rate=0.5, max_depth=10, n_estimators=100 ...............\n",
      "[CV]  learning_rate=0.5, max_depth=10, n_estimators=100, score=0.667, total=   1.6s\n",
      "[CV] learning_rate=0.5, max_depth=10, n_estimators=100 ...............\n",
      "[CV]  learning_rate=0.5, max_depth=10, n_estimators=100, score=0.732, total=   1.6s\n",
      "[CV] learning_rate=0.5, max_depth=10, n_estimators=200 ...............\n",
      "[CV]  learning_rate=0.5, max_depth=10, n_estimators=200, score=0.778, total=   3.2s\n",
      "[CV] learning_rate=0.5, max_depth=10, n_estimators=200 ...............\n",
      "[CV]  learning_rate=0.5, max_depth=10, n_estimators=200, score=0.697, total=   3.3s\n",
      "[CV] learning_rate=0.5, max_depth=10, n_estimators=200 ...............\n",
      "[CV]  learning_rate=0.5, max_depth=10, n_estimators=200, score=0.806, total=   3.3s\n",
      "[CV] learning_rate=0.5, max_depth=10, n_estimators=200 ...............\n",
      "[CV]  learning_rate=0.5, max_depth=10, n_estimators=200, score=0.666, total=   3.2s\n",
      "[CV] learning_rate=0.5, max_depth=10, n_estimators=200 ...............\n",
      "[CV]  learning_rate=0.5, max_depth=10, n_estimators=200, score=0.731, total=   3.3s\n",
      "[CV] learning_rate=0.5, max_depth=20, n_estimators=10 ................\n",
      "[CV]  learning_rate=0.5, max_depth=20, n_estimators=10, score=0.780, total=   0.4s\n",
      "[CV] learning_rate=0.5, max_depth=20, n_estimators=10 ................\n",
      "[CV]  learning_rate=0.5, max_depth=20, n_estimators=10, score=0.699, total=   0.3s\n",
      "[CV] learning_rate=0.5, max_depth=20, n_estimators=10 ................\n",
      "[CV]  learning_rate=0.5, max_depth=20, n_estimators=10, score=0.789, total=   0.4s\n",
      "[CV] learning_rate=0.5, max_depth=20, n_estimators=10 ................\n",
      "[CV]  learning_rate=0.5, max_depth=20, n_estimators=10, score=0.661, total=   0.3s\n",
      "[CV] learning_rate=0.5, max_depth=20, n_estimators=10 ................\n",
      "[CV]  learning_rate=0.5, max_depth=20, n_estimators=10, score=0.748, total=   0.4s\n",
      "[CV] learning_rate=0.5, max_depth=20, n_estimators=50 ................\n",
      "[CV]  learning_rate=0.5, max_depth=20, n_estimators=50, score=0.767, total=   1.9s\n",
      "[CV] learning_rate=0.5, max_depth=20, n_estimators=50 ................\n",
      "[CV]  learning_rate=0.5, max_depth=20, n_estimators=50, score=0.666, total=   2.0s\n",
      "[CV] learning_rate=0.5, max_depth=20, n_estimators=50 ................\n",
      "[CV]  learning_rate=0.5, max_depth=20, n_estimators=50, score=0.779, total=   1.9s\n",
      "[CV] learning_rate=0.5, max_depth=20, n_estimators=50 ................\n",
      "[CV]  learning_rate=0.5, max_depth=20, n_estimators=50, score=0.649, total=   2.0s\n",
      "[CV] learning_rate=0.5, max_depth=20, n_estimators=50 ................\n",
      "[CV]  learning_rate=0.5, max_depth=20, n_estimators=50, score=0.735, total=   2.0s\n",
      "[CV] learning_rate=0.5, max_depth=20, n_estimators=100 ...............\n",
      "[CV]  learning_rate=0.5, max_depth=20, n_estimators=100, score=0.767, total=   2.8s\n",
      "[CV] learning_rate=0.5, max_depth=20, n_estimators=100 ...............\n",
      "[CV]  learning_rate=0.5, max_depth=20, n_estimators=100, score=0.666, total=   2.7s\n",
      "[CV] learning_rate=0.5, max_depth=20, n_estimators=100 ...............\n",
      "[CV]  learning_rate=0.5, max_depth=20, n_estimators=100, score=0.779, total=   2.6s\n",
      "[CV] learning_rate=0.5, max_depth=20, n_estimators=100 ...............\n",
      "[CV]  learning_rate=0.5, max_depth=20, n_estimators=100, score=0.649, total=   2.7s\n",
      "[CV] learning_rate=0.5, max_depth=20, n_estimators=100 ...............\n",
      "[CV]  learning_rate=0.5, max_depth=20, n_estimators=100, score=0.735, total=   2.7s\n",
      "[CV] learning_rate=0.5, max_depth=20, n_estimators=200 ...............\n",
      "[CV]  learning_rate=0.5, max_depth=20, n_estimators=200, score=0.767, total=   3.9s\n",
      "[CV] learning_rate=0.5, max_depth=20, n_estimators=200 ...............\n",
      "[CV]  learning_rate=0.5, max_depth=20, n_estimators=200, score=0.666, total=   3.8s\n",
      "[CV] learning_rate=0.5, max_depth=20, n_estimators=200 ...............\n",
      "[CV]  learning_rate=0.5, max_depth=20, n_estimators=200, score=0.779, total=   3.1s\n",
      "[CV] learning_rate=0.5, max_depth=20, n_estimators=200 ...............\n",
      "[CV]  learning_rate=0.5, max_depth=20, n_estimators=200, score=0.649, total=   3.7s\n",
      "[CV] learning_rate=0.5, max_depth=20, n_estimators=200 ...............\n",
      "[CV]  learning_rate=0.5, max_depth=20, n_estimators=200, score=0.735, total=   3.7s\n",
      "[CV] learning_rate=0.1, max_depth=3, n_estimators=10 .................\n",
      "[CV]  learning_rate=0.1, max_depth=3, n_estimators=10, score=0.065, total=   0.1s\n",
      "[CV] learning_rate=0.1, max_depth=3, n_estimators=10 .................\n",
      "[CV]  learning_rate=0.1, max_depth=3, n_estimators=10, score=0.111, total=   0.1s\n",
      "[CV] learning_rate=0.1, max_depth=3, n_estimators=10 .................\n",
      "[CV]  learning_rate=0.1, max_depth=3, n_estimators=10, score=0.086, total=   0.1s\n",
      "[CV] learning_rate=0.1, max_depth=3, n_estimators=10 .................\n",
      "[CV]  learning_rate=0.1, max_depth=3, n_estimators=10, score=0.094, total=   0.1s\n",
      "[CV] learning_rate=0.1, max_depth=3, n_estimators=10 .................\n",
      "[CV]  learning_rate=0.1, max_depth=3, n_estimators=10, score=0.012, total=   0.1s\n",
      "[CV] learning_rate=0.1, max_depth=3, n_estimators=50 .................\n",
      "[CV]  learning_rate=0.1, max_depth=3, n_estimators=50, score=0.748, total=   0.3s\n",
      "[CV] learning_rate=0.1, max_depth=3, n_estimators=50 .................\n",
      "[CV]  learning_rate=0.1, max_depth=3, n_estimators=50, score=0.737, total=   0.2s\n",
      "[CV] learning_rate=0.1, max_depth=3, n_estimators=50 .................\n",
      "[CV]  learning_rate=0.1, max_depth=3, n_estimators=50, score=0.752, total=   0.2s\n",
      "[CV] learning_rate=0.1, max_depth=3, n_estimators=50 .................\n",
      "[CV]  learning_rate=0.1, max_depth=3, n_estimators=50, score=0.680, total=   0.3s\n",
      "[CV] learning_rate=0.1, max_depth=3, n_estimators=50 .................\n",
      "[CV]  learning_rate=0.1, max_depth=3, n_estimators=50, score=0.741, total=   0.2s\n",
      "[CV] learning_rate=0.1, max_depth=3, n_estimators=100 ................\n",
      "[CV]  learning_rate=0.1, max_depth=3, n_estimators=100, score=0.782, total=   0.5s\n",
      "[CV] learning_rate=0.1, max_depth=3, n_estimators=100 ................\n",
      "[CV]  learning_rate=0.1, max_depth=3, n_estimators=100, score=0.754, total=   0.5s\n",
      "[CV] learning_rate=0.1, max_depth=3, n_estimators=100 ................\n",
      "[CV]  learning_rate=0.1, max_depth=3, n_estimators=100, score=0.784, total=   0.5s\n",
      "[CV] learning_rate=0.1, max_depth=3, n_estimators=100 ................\n",
      "[CV]  learning_rate=0.1, max_depth=3, n_estimators=100, score=0.702, total=   0.5s\n",
      "[CV] learning_rate=0.1, max_depth=3, n_estimators=100 ................\n",
      "[CV]  learning_rate=0.1, max_depth=3, n_estimators=100, score=0.767, total=   0.5s\n",
      "[CV] learning_rate=0.1, max_depth=3, n_estimators=200 ................\n",
      "[CV]  learning_rate=0.1, max_depth=3, n_estimators=200, score=0.803, total=   0.9s\n",
      "[CV] learning_rate=0.1, max_depth=3, n_estimators=200 ................\n",
      "[CV]  learning_rate=0.1, max_depth=3, n_estimators=200, score=0.767, total=   0.9s\n",
      "[CV] learning_rate=0.1, max_depth=3, n_estimators=200 ................\n",
      "[CV]  learning_rate=0.1, max_depth=3, n_estimators=200, score=0.809, total=   0.9s\n",
      "[CV] learning_rate=0.1, max_depth=3, n_estimators=200 ................\n",
      "[CV]  learning_rate=0.1, max_depth=3, n_estimators=200, score=0.724, total=   0.9s\n",
      "[CV] learning_rate=0.1, max_depth=3, n_estimators=200 ................\n",
      "[CV]  learning_rate=0.1, max_depth=3, n_estimators=200, score=0.789, total=   0.9s\n",
      "[CV] learning_rate=0.1, max_depth=5, n_estimators=10 .................\n",
      "[CV]  learning_rate=0.1, max_depth=5, n_estimators=10, score=0.127, total=   0.1s\n",
      "[CV] learning_rate=0.1, max_depth=5, n_estimators=10 .................\n",
      "[CV]  learning_rate=0.1, max_depth=5, n_estimators=10, score=0.181, total=   0.1s\n",
      "[CV] learning_rate=0.1, max_depth=5, n_estimators=10 .................\n",
      "[CV]  learning_rate=0.1, max_depth=5, n_estimators=10, score=0.139, total=   0.1s\n",
      "[CV] learning_rate=0.1, max_depth=5, n_estimators=10 .................\n",
      "[CV]  learning_rate=0.1, max_depth=5, n_estimators=10, score=0.153, total=   0.1s\n",
      "[CV] learning_rate=0.1, max_depth=5, n_estimators=10 .................\n",
      "[CV]  learning_rate=0.1, max_depth=5, n_estimators=10, score=0.089, total=   0.1s\n",
      "[CV] learning_rate=0.1, max_depth=5, n_estimators=50 .................\n",
      "[CV]  learning_rate=0.1, max_depth=5, n_estimators=50, score=0.802, total=   0.4s\n",
      "[CV] learning_rate=0.1, max_depth=5, n_estimators=50 .................\n",
      "[CV]  learning_rate=0.1, max_depth=5, n_estimators=50, score=0.745, total=   0.4s\n",
      "[CV] learning_rate=0.1, max_depth=5, n_estimators=50 .................\n",
      "[CV]  learning_rate=0.1, max_depth=5, n_estimators=50, score=0.798, total=   0.4s\n",
      "[CV] learning_rate=0.1, max_depth=5, n_estimators=50 .................\n",
      "[CV]  learning_rate=0.1, max_depth=5, n_estimators=50, score=0.727, total=   0.4s\n",
      "[CV] learning_rate=0.1, max_depth=5, n_estimators=50 .................\n",
      "[CV]  learning_rate=0.1, max_depth=5, n_estimators=50, score=0.789, total=   0.4s\n",
      "[CV] learning_rate=0.1, max_depth=5, n_estimators=100 ................\n",
      "[CV]  learning_rate=0.1, max_depth=5, n_estimators=100, score=0.831, total=   0.7s\n",
      "[CV] learning_rate=0.1, max_depth=5, n_estimators=100 ................\n",
      "[CV]  learning_rate=0.1, max_depth=5, n_estimators=100, score=0.758, total=   0.7s\n",
      "[CV] learning_rate=0.1, max_depth=5, n_estimators=100 ................\n",
      "[CV]  learning_rate=0.1, max_depth=5, n_estimators=100, score=0.823, total=   0.7s\n",
      "[CV] learning_rate=0.1, max_depth=5, n_estimators=100 ................\n",
      "[CV]  learning_rate=0.1, max_depth=5, n_estimators=100, score=0.753, total=   0.7s\n",
      "[CV] learning_rate=0.1, max_depth=5, n_estimators=100 ................\n",
      "[CV]  learning_rate=0.1, max_depth=5, n_estimators=100, score=0.810, total=   0.7s\n",
      "[CV] learning_rate=0.1, max_depth=5, n_estimators=200 ................\n",
      "[CV]  learning_rate=0.1, max_depth=5, n_estimators=200, score=0.850, total=   1.4s\n",
      "[CV] learning_rate=0.1, max_depth=5, n_estimators=200 ................\n",
      "[CV]  learning_rate=0.1, max_depth=5, n_estimators=200, score=0.774, total=   1.4s\n",
      "[CV] learning_rate=0.1, max_depth=5, n_estimators=200 ................\n",
      "[CV]  learning_rate=0.1, max_depth=5, n_estimators=200, score=0.831, total=   1.4s\n",
      "[CV] learning_rate=0.1, max_depth=5, n_estimators=200 ................\n",
      "[CV]  learning_rate=0.1, max_depth=5, n_estimators=200, score=0.775, total=   1.4s\n",
      "[CV] learning_rate=0.1, max_depth=5, n_estimators=200 ................\n",
      "[CV]  learning_rate=0.1, max_depth=5, n_estimators=200, score=0.826, total=   1.4s\n",
      "[CV] learning_rate=0.1, max_depth=10, n_estimators=10 ................\n",
      "[CV]  learning_rate=0.1, max_depth=10, n_estimators=10, score=0.172, total=   0.2s\n",
      "[CV] learning_rate=0.1, max_depth=10, n_estimators=10 ................\n",
      "[CV]  learning_rate=0.1, max_depth=10, n_estimators=10, score=0.221, total=   0.2s\n",
      "[CV] learning_rate=0.1, max_depth=10, n_estimators=10 ................\n",
      "[CV]  learning_rate=0.1, max_depth=10, n_estimators=10, score=0.218, total=   0.2s\n",
      "[CV] learning_rate=0.1, max_depth=10, n_estimators=10 ................\n",
      "[CV]  learning_rate=0.1, max_depth=10, n_estimators=10, score=0.154, total=   0.2s\n",
      "[CV] learning_rate=0.1, max_depth=10, n_estimators=10 ................\n",
      "[CV]  learning_rate=0.1, max_depth=10, n_estimators=10, score=0.130, total=   0.2s\n",
      "[CV] learning_rate=0.1, max_depth=10, n_estimators=50 ................\n",
      "[CV]  learning_rate=0.1, max_depth=10, n_estimators=50, score=0.846, total=   0.8s\n",
      "[CV] learning_rate=0.1, max_depth=10, n_estimators=50 ................\n",
      "[CV]  learning_rate=0.1, max_depth=10, n_estimators=50, score=0.752, total=   0.8s\n",
      "[CV] learning_rate=0.1, max_depth=10, n_estimators=50 ................\n",
      "[CV]  learning_rate=0.1, max_depth=10, n_estimators=50, score=0.836, total=   0.8s\n",
      "[CV] learning_rate=0.1, max_depth=10, n_estimators=50 ................\n",
      "[CV]  learning_rate=0.1, max_depth=10, n_estimators=50, score=0.731, total=   0.8s\n",
      "[CV] learning_rate=0.1, max_depth=10, n_estimators=50 ................\n",
      "[CV]  learning_rate=0.1, max_depth=10, n_estimators=50, score=0.807, total=   0.8s\n",
      "[CV] learning_rate=0.1, max_depth=10, n_estimators=100 ...............\n",
      "[CV]  learning_rate=0.1, max_depth=10, n_estimators=100, score=0.843, total=   1.6s\n",
      "[CV] learning_rate=0.1, max_depth=10, n_estimators=100 ...............\n",
      "[CV]  learning_rate=0.1, max_depth=10, n_estimators=100, score=0.737, total=   1.5s\n",
      "[CV] learning_rate=0.1, max_depth=10, n_estimators=100 ...............\n",
      "[CV]  learning_rate=0.1, max_depth=10, n_estimators=100, score=0.835, total=   1.5s\n",
      "[CV] learning_rate=0.1, max_depth=10, n_estimators=100 ...............\n",
      "[CV]  learning_rate=0.1, max_depth=10, n_estimators=100, score=0.729, total=   1.5s\n",
      "[CV] learning_rate=0.1, max_depth=10, n_estimators=100 ...............\n",
      "[CV]  learning_rate=0.1, max_depth=10, n_estimators=100, score=0.798, total=   1.5s\n",
      "[CV] learning_rate=0.1, max_depth=10, n_estimators=200 ...............\n",
      "[CV]  learning_rate=0.1, max_depth=10, n_estimators=200, score=0.819, total=   3.1s\n",
      "[CV] learning_rate=0.1, max_depth=10, n_estimators=200 ...............\n",
      "[CV]  learning_rate=0.1, max_depth=10, n_estimators=200, score=0.715, total=   3.1s\n",
      "[CV] learning_rate=0.1, max_depth=10, n_estimators=200 ...............\n",
      "[CV]  learning_rate=0.1, max_depth=10, n_estimators=200, score=0.818, total=   3.1s\n",
      "[CV] learning_rate=0.1, max_depth=10, n_estimators=200 ...............\n",
      "[CV]  learning_rate=0.1, max_depth=10, n_estimators=200, score=0.704, total=   3.1s\n",
      "[CV] learning_rate=0.1, max_depth=10, n_estimators=200 ...............\n",
      "[CV]  learning_rate=0.1, max_depth=10, n_estimators=200, score=0.768, total=   3.1s\n",
      "[CV] learning_rate=0.1, max_depth=20, n_estimators=10 ................\n",
      "[CV]  learning_rate=0.1, max_depth=20, n_estimators=10, score=0.170, total=   0.2s\n",
      "[CV] learning_rate=0.1, max_depth=20, n_estimators=10 ................\n",
      "[CV]  learning_rate=0.1, max_depth=20, n_estimators=10, score=0.217, total=   0.2s\n",
      "[CV] learning_rate=0.1, max_depth=20, n_estimators=10 ................\n",
      "[CV]  learning_rate=0.1, max_depth=20, n_estimators=10, score=0.222, total=   0.2s\n",
      "[CV] learning_rate=0.1, max_depth=20, n_estimators=10 ................\n",
      "[CV]  learning_rate=0.1, max_depth=20, n_estimators=10, score=0.156, total=   0.2s\n",
      "[CV] learning_rate=0.1, max_depth=20, n_estimators=10 ................\n",
      "[CV]  learning_rate=0.1, max_depth=20, n_estimators=10, score=0.131, total=   0.2s\n",
      "[CV] learning_rate=0.1, max_depth=20, n_estimators=50 ................\n",
      "[CV]  learning_rate=0.1, max_depth=20, n_estimators=50, score=0.803, total=   1.6s\n",
      "[CV] learning_rate=0.1, max_depth=20, n_estimators=50 ................\n",
      "[CV]  learning_rate=0.1, max_depth=20, n_estimators=50, score=0.728, total=   1.6s\n",
      "[CV] learning_rate=0.1, max_depth=20, n_estimators=50 ................\n",
      "[CV]  learning_rate=0.1, max_depth=20, n_estimators=50, score=0.812, total=   1.6s\n",
      "[CV] learning_rate=0.1, max_depth=20, n_estimators=50 ................\n",
      "[CV]  learning_rate=0.1, max_depth=20, n_estimators=50, score=0.709, total=   1.6s\n",
      "[CV] learning_rate=0.1, max_depth=20, n_estimators=50 ................\n",
      "[CV]  learning_rate=0.1, max_depth=20, n_estimators=50, score=0.766, total=   1.6s\n",
      "[CV] learning_rate=0.1, max_depth=20, n_estimators=100 ...............\n",
      "[CV]  learning_rate=0.1, max_depth=20, n_estimators=100, score=0.789, total=   3.5s\n",
      "[CV] learning_rate=0.1, max_depth=20, n_estimators=100 ...............\n",
      "[CV]  learning_rate=0.1, max_depth=20, n_estimators=100, score=0.694, total=   3.6s\n",
      "[CV] learning_rate=0.1, max_depth=20, n_estimators=100 ...............\n",
      "[CV]  learning_rate=0.1, max_depth=20, n_estimators=100, score=0.800, total=   3.5s\n",
      "[CV] learning_rate=0.1, max_depth=20, n_estimators=100 ...............\n",
      "[CV]  learning_rate=0.1, max_depth=20, n_estimators=100, score=0.693, total=   3.6s\n",
      "[CV] learning_rate=0.1, max_depth=20, n_estimators=100 ...............\n",
      "[CV]  learning_rate=0.1, max_depth=20, n_estimators=100, score=0.746, total=   3.6s\n",
      "[CV] learning_rate=0.1, max_depth=20, n_estimators=200 ...............\n",
      "[CV]  learning_rate=0.1, max_depth=20, n_estimators=200, score=0.787, total=   7.6s\n",
      "[CV] learning_rate=0.1, max_depth=20, n_estimators=200 ...............\n",
      "[CV]  learning_rate=0.1, max_depth=20, n_estimators=200, score=0.689, total=   7.7s\n",
      "[CV] learning_rate=0.1, max_depth=20, n_estimators=200 ...............\n",
      "[CV]  learning_rate=0.1, max_depth=20, n_estimators=200, score=0.799, total=   7.7s\n",
      "[CV] learning_rate=0.1, max_depth=20, n_estimators=200 ...............\n",
      "[CV]  learning_rate=0.1, max_depth=20, n_estimators=200, score=0.690, total=   7.7s\n",
      "[CV] learning_rate=0.1, max_depth=20, n_estimators=200 ...............\n",
      "[CV]  learning_rate=0.1, max_depth=20, n_estimators=200, score=0.744, total=   7.7s\n",
      "[CV] learning_rate=0.01, max_depth=3, n_estimators=10 ................\n",
      "[CV]  learning_rate=0.01, max_depth=3, n_estimators=10, score=-3.416, total=   0.1s\n",
      "[CV] learning_rate=0.01, max_depth=3, n_estimators=10 ................\n",
      "[CV]  learning_rate=0.01, max_depth=3, n_estimators=10, score=-2.724, total=   0.1s\n",
      "[CV] learning_rate=0.01, max_depth=3, n_estimators=10 ................\n",
      "[CV]  learning_rate=0.01, max_depth=3, n_estimators=10, score=-2.702, total=   0.1s\n",
      "[CV] learning_rate=0.01, max_depth=3, n_estimators=10 ................\n",
      "[CV]  learning_rate=0.01, max_depth=3, n_estimators=10, score=-2.982, total=   0.1s\n",
      "[CV] learning_rate=0.01, max_depth=3, n_estimators=10 ................\n",
      "[CV]  learning_rate=0.01, max_depth=3, n_estimators=10, score=-3.500, total=   0.1s\n",
      "[CV] learning_rate=0.01, max_depth=3, n_estimators=50 ................\n",
      "[CV]  learning_rate=0.01, max_depth=3, n_estimators=50, score=-1.166, total=   0.2s\n",
      "[CV] learning_rate=0.01, max_depth=3, n_estimators=50 ................\n",
      "[CV]  learning_rate=0.01, max_depth=3, n_estimators=50, score=-0.912, total=   0.2s\n",
      "[CV] learning_rate=0.01, max_depth=3, n_estimators=50 ................\n",
      "[CV]  learning_rate=0.01, max_depth=3, n_estimators=50, score=-0.924, total=   0.3s\n",
      "[CV] learning_rate=0.01, max_depth=3, n_estimators=50 ................\n",
      "[CV]  learning_rate=0.01, max_depth=3, n_estimators=50, score=-0.978, total=   0.3s\n",
      "[CV] learning_rate=0.01, max_depth=3, n_estimators=50 ................\n",
      "[CV]  learning_rate=0.01, max_depth=3, n_estimators=50, score=-1.235, total=   0.2s\n",
      "[CV] learning_rate=0.01, max_depth=3, n_estimators=100 ...............\n",
      "[CV]  learning_rate=0.01, max_depth=3, n_estimators=100, score=0.001, total=   0.5s\n",
      "[CV] learning_rate=0.01, max_depth=3, n_estimators=100 ...............\n",
      "[CV]  learning_rate=0.01, max_depth=3, n_estimators=100, score=0.054, total=   0.5s\n",
      "[CV] learning_rate=0.01, max_depth=3, n_estimators=100 ...............\n",
      "[CV]  learning_rate=0.01, max_depth=3, n_estimators=100, score=0.032, total=   0.5s\n",
      "[CV] learning_rate=0.01, max_depth=3, n_estimators=100 ...............\n",
      "[CV]  learning_rate=0.01, max_depth=3, n_estimators=100, score=0.043, total=   0.5s\n",
      "[CV] learning_rate=0.01, max_depth=3, n_estimators=100 ...............\n",
      "[CV]  learning_rate=0.01, max_depth=3, n_estimators=100, score=-0.056, total=   0.5s\n",
      "[CV] learning_rate=0.01, max_depth=3, n_estimators=200 ...............\n",
      "[CV]  learning_rate=0.01, max_depth=3, n_estimators=200, score=0.613, total=   0.9s\n",
      "[CV] learning_rate=0.01, max_depth=3, n_estimators=200 ...............\n",
      "[CV]  learning_rate=0.01, max_depth=3, n_estimators=200, score=0.590, total=   0.9s\n",
      "[CV] learning_rate=0.01, max_depth=3, n_estimators=200 ...............\n",
      "[CV]  learning_rate=0.01, max_depth=3, n_estimators=200, score=0.579, total=   0.9s\n",
      "[CV] learning_rate=0.01, max_depth=3, n_estimators=200 ...............\n",
      "[CV]  learning_rate=0.01, max_depth=3, n_estimators=200, score=0.570, total=   0.9s\n",
      "[CV] learning_rate=0.01, max_depth=3, n_estimators=200 ...............\n",
      "[CV]  learning_rate=0.01, max_depth=3, n_estimators=200, score=0.583, total=   0.9s\n",
      "[CV] learning_rate=0.01, max_depth=5, n_estimators=10 ................\n",
      "[CV]  learning_rate=0.01, max_depth=5, n_estimators=10, score=-3.399, total=   0.1s\n",
      "[CV] learning_rate=0.01, max_depth=5, n_estimators=10 ................\n",
      "[CV]  learning_rate=0.01, max_depth=5, n_estimators=10, score=-2.708, total=   0.1s\n",
      "[CV] learning_rate=0.01, max_depth=5, n_estimators=10 ................\n",
      "[CV]  learning_rate=0.01, max_depth=5, n_estimators=10, score=-2.688, total=   0.1s\n",
      "[CV] learning_rate=0.01, max_depth=5, n_estimators=10 ................\n",
      "[CV]  learning_rate=0.01, max_depth=5, n_estimators=10, score=-2.974, total=   0.1s\n",
      "[CV] learning_rate=0.01, max_depth=5, n_estimators=10 ................\n",
      "[CV]  learning_rate=0.01, max_depth=5, n_estimators=10, score=-3.478, total=   0.1s\n",
      "[CV] learning_rate=0.01, max_depth=5, n_estimators=50 ................\n",
      "[CV]  learning_rate=0.01, max_depth=5, n_estimators=50, score=-1.111, total=   0.4s\n",
      "[CV] learning_rate=0.01, max_depth=5, n_estimators=50 ................\n",
      "[CV]  learning_rate=0.01, max_depth=5, n_estimators=50, score=-0.840, total=   0.4s\n",
      "[CV] learning_rate=0.01, max_depth=5, n_estimators=50 ................\n",
      "[CV]  learning_rate=0.01, max_depth=5, n_estimators=50, score=-0.876, total=   0.4s\n",
      "[CV] learning_rate=0.01, max_depth=5, n_estimators=50 ................\n",
      "[CV]  learning_rate=0.01, max_depth=5, n_estimators=50, score=-0.939, total=   0.4s\n",
      "[CV] learning_rate=0.01, max_depth=5, n_estimators=50 ................\n",
      "[CV]  learning_rate=0.01, max_depth=5, n_estimators=50, score=-1.174, total=   0.4s\n",
      "[CV] learning_rate=0.01, max_depth=5, n_estimators=100 ...............\n",
      "[CV]  learning_rate=0.01, max_depth=5, n_estimators=100, score=0.065, total=   0.7s\n",
      "[CV] learning_rate=0.01, max_depth=5, n_estimators=100 ...............\n",
      "[CV]  learning_rate=0.01, max_depth=5, n_estimators=100, score=0.127, total=   0.7s\n",
      "[CV] learning_rate=0.01, max_depth=5, n_estimators=100 ...............\n",
      "[CV]  learning_rate=0.01, max_depth=5, n_estimators=100, score=0.091, total=   0.7s\n",
      "[CV] learning_rate=0.01, max_depth=5, n_estimators=100 ...............\n",
      "[CV]  learning_rate=0.01, max_depth=5, n_estimators=100, score=0.098, total=   0.7s\n",
      "[CV] learning_rate=0.01, max_depth=5, n_estimators=100 ...............\n",
      "[CV]  learning_rate=0.01, max_depth=5, n_estimators=100, score=0.025, total=   0.7s\n",
      "[CV] learning_rate=0.01, max_depth=5, n_estimators=200 ...............\n",
      "[CV]  learning_rate=0.01, max_depth=5, n_estimators=200, score=0.669, total=   1.4s\n",
      "[CV] learning_rate=0.01, max_depth=5, n_estimators=200 ...............\n",
      "[CV]  learning_rate=0.01, max_depth=5, n_estimators=200, score=0.645, total=   1.4s\n",
      "[CV] learning_rate=0.01, max_depth=5, n_estimators=200 ...............\n",
      "[CV]  learning_rate=0.01, max_depth=5, n_estimators=200, score=0.636, total=   1.5s\n",
      "[CV] learning_rate=0.01, max_depth=5, n_estimators=200 ...............\n",
      "[CV]  learning_rate=0.01, max_depth=5, n_estimators=200, score=0.619, total=   1.4s\n",
      "[CV] learning_rate=0.01, max_depth=5, n_estimators=200 ...............\n",
      "[CV]  learning_rate=0.01, max_depth=5, n_estimators=200, score=0.657, total=   1.4s\n",
      "[CV] learning_rate=0.01, max_depth=10, n_estimators=10 ...............\n",
      "[CV]  learning_rate=0.01, max_depth=10, n_estimators=10, score=-3.394, total=   0.2s\n",
      "[CV] learning_rate=0.01, max_depth=10, n_estimators=10 ...............\n",
      "[CV]  learning_rate=0.01, max_depth=10, n_estimators=10, score=-2.701, total=   0.2s\n",
      "[CV] learning_rate=0.01, max_depth=10, n_estimators=10 ...............\n",
      "[CV]  learning_rate=0.01, max_depth=10, n_estimators=10, score=-2.680, total=   0.2s\n",
      "[CV] learning_rate=0.01, max_depth=10, n_estimators=10 ...............\n",
      "[CV]  learning_rate=0.01, max_depth=10, n_estimators=10, score=-2.979, total=   0.2s\n",
      "[CV] learning_rate=0.01, max_depth=10, n_estimators=10 ...............\n",
      "[CV]  learning_rate=0.01, max_depth=10, n_estimators=10, score=-3.473, total=   0.2s\n",
      "[CV] learning_rate=0.01, max_depth=10, n_estimators=50 ...............\n",
      "[CV]  learning_rate=0.01, max_depth=10, n_estimators=50, score=-1.088, total=   0.8s\n",
      "[CV] learning_rate=0.01, max_depth=10, n_estimators=50 ...............\n",
      "[CV]  learning_rate=0.01, max_depth=10, n_estimators=50, score=-0.822, total=   0.8s\n",
      "[CV] learning_rate=0.01, max_depth=10, n_estimators=50 ...............\n",
      "[CV]  learning_rate=0.01, max_depth=10, n_estimators=50, score=-0.830, total=   0.8s\n",
      "[CV] learning_rate=0.01, max_depth=10, n_estimators=50 ...............\n",
      "[CV]  learning_rate=0.01, max_depth=10, n_estimators=50, score=-0.950, total=   0.8s\n",
      "[CV] learning_rate=0.01, max_depth=10, n_estimators=50 ...............\n",
      "[CV]  learning_rate=0.01, max_depth=10, n_estimators=50, score=-1.147, total=   0.8s\n",
      "[CV] learning_rate=0.01, max_depth=10, n_estimators=100 ..............\n",
      "[CV]  learning_rate=0.01, max_depth=10, n_estimators=100, score=0.112, total=   1.6s\n",
      "[CV] learning_rate=0.01, max_depth=10, n_estimators=100 ..............\n",
      "[CV]  learning_rate=0.01, max_depth=10, n_estimators=100, score=0.169, total=   1.6s\n",
      "[CV] learning_rate=0.01, max_depth=10, n_estimators=100 ..............\n",
      "[CV]  learning_rate=0.01, max_depth=10, n_estimators=100, score=0.169, total=   1.6s\n",
      "[CV] learning_rate=0.01, max_depth=10, n_estimators=100 ..............\n",
      "[CV]  learning_rate=0.01, max_depth=10, n_estimators=100, score=0.101, total=   1.6s\n",
      "[CV] learning_rate=0.01, max_depth=10, n_estimators=100 ..............\n",
      "[CV]  learning_rate=0.01, max_depth=10, n_estimators=100, score=0.068, total=   1.6s\n",
      "[CV] learning_rate=0.01, max_depth=10, n_estimators=200 ..............\n",
      "[CV]  learning_rate=0.01, max_depth=10, n_estimators=200, score=0.732, total=   3.2s\n",
      "[CV] learning_rate=0.01, max_depth=10, n_estimators=200 ..............\n",
      "[CV]  learning_rate=0.01, max_depth=10, n_estimators=200, score=0.695, total=   3.2s\n",
      "[CV] learning_rate=0.01, max_depth=10, n_estimators=200 ..............\n",
      "[CV]  learning_rate=0.01, max_depth=10, n_estimators=200, score=0.725, total=   3.2s\n",
      "[CV] learning_rate=0.01, max_depth=10, n_estimators=200 ..............\n",
      "[CV]  learning_rate=0.01, max_depth=10, n_estimators=200, score=0.646, total=   3.2s\n",
      "[CV] learning_rate=0.01, max_depth=10, n_estimators=200 ..............\n",
      "[CV]  learning_rate=0.01, max_depth=10, n_estimators=200, score=0.701, total=   3.2s\n",
      "[CV] learning_rate=0.01, max_depth=20, n_estimators=10 ...............\n",
      "[CV]  learning_rate=0.01, max_depth=20, n_estimators=10, score=-3.393, total=   0.2s\n",
      "[CV] learning_rate=0.01, max_depth=20, n_estimators=10 ...............\n",
      "[CV]  learning_rate=0.01, max_depth=20, n_estimators=10, score=-2.701, total=   0.2s\n",
      "[CV] learning_rate=0.01, max_depth=20, n_estimators=10 ...............\n",
      "[CV]  learning_rate=0.01, max_depth=20, n_estimators=10, score=-2.680, total=   0.2s\n",
      "[CV] learning_rate=0.01, max_depth=20, n_estimators=10 ...............\n",
      "[CV]  learning_rate=0.01, max_depth=20, n_estimators=10, score=-2.979, total=   0.2s\n",
      "[CV] learning_rate=0.01, max_depth=20, n_estimators=10 ...............\n",
      "[CV]  learning_rate=0.01, max_depth=20, n_estimators=10, score=-3.473, total=   0.2s\n",
      "[CV] learning_rate=0.01, max_depth=20, n_estimators=50 ...............\n",
      "[CV]  learning_rate=0.01, max_depth=20, n_estimators=50, score=-1.088, total=   0.9s\n",
      "[CV] learning_rate=0.01, max_depth=20, n_estimators=50 ...............\n",
      "[CV]  learning_rate=0.01, max_depth=20, n_estimators=50, score=-0.821, total=   0.9s\n",
      "[CV] learning_rate=0.01, max_depth=20, n_estimators=50 ...............\n",
      "[CV]  learning_rate=0.01, max_depth=20, n_estimators=50, score=-0.830, total=   0.9s\n",
      "[CV] learning_rate=0.01, max_depth=20, n_estimators=50 ...............\n",
      "[CV]  learning_rate=0.01, max_depth=20, n_estimators=50, score=-0.952, total=   0.9s\n",
      "[CV] learning_rate=0.01, max_depth=20, n_estimators=50 ...............\n",
      "[CV]  learning_rate=0.01, max_depth=20, n_estimators=50, score=-1.144, total=   1.0s\n",
      "[CV] learning_rate=0.01, max_depth=20, n_estimators=100 ..............\n",
      "[CV]  learning_rate=0.01, max_depth=20, n_estimators=100, score=0.108, total=   2.0s\n",
      "[CV] learning_rate=0.01, max_depth=20, n_estimators=100 ..............\n",
      "[CV]  learning_rate=0.01, max_depth=20, n_estimators=100, score=0.170, total=   2.0s\n",
      "[CV] learning_rate=0.01, max_depth=20, n_estimators=100 ..............\n",
      "[CV]  learning_rate=0.01, max_depth=20, n_estimators=100, score=0.169, total=   2.0s\n",
      "[CV] learning_rate=0.01, max_depth=20, n_estimators=100 ..............\n",
      "[CV]  learning_rate=0.01, max_depth=20, n_estimators=100, score=0.098, total=   2.0s\n",
      "[CV] learning_rate=0.01, max_depth=20, n_estimators=100 ..............\n",
      "[CV]  learning_rate=0.01, max_depth=20, n_estimators=100, score=0.072, total=   2.1s\n",
      "[CV] learning_rate=0.01, max_depth=20, n_estimators=200 ..............\n",
      "[CV]  learning_rate=0.01, max_depth=20, n_estimators=200, score=0.723, total=   4.8s\n",
      "[CV] learning_rate=0.01, max_depth=20, n_estimators=200 ..............\n",
      "[CV]  learning_rate=0.01, max_depth=20, n_estimators=200, score=0.691, total=   4.9s\n",
      "[CV] learning_rate=0.01, max_depth=20, n_estimators=200 ..............\n",
      "[CV]  learning_rate=0.01, max_depth=20, n_estimators=200, score=0.717, total=   5.0s\n",
      "[CV] learning_rate=0.01, max_depth=20, n_estimators=200 ..............\n",
      "[CV]  learning_rate=0.01, max_depth=20, n_estimators=200, score=0.642, total=   4.8s\n",
      "[CV] learning_rate=0.01, max_depth=20, n_estimators=200 ..............\n",
      "[CV]  learning_rate=0.01, max_depth=20, n_estimators=200, score=0.693, total=   5.0s\n",
      "[CV] learning_rate=0.001, max_depth=3, n_estimators=10 ...............\n",
      "[CV]  learning_rate=0.001, max_depth=3, n_estimators=10, score=-4.222, total=   0.1s\n",
      "[CV] learning_rate=0.001, max_depth=3, n_estimators=10 ...............\n",
      "[CV]  learning_rate=0.001, max_depth=3, n_estimators=10, score=-3.368, total=   0.1s\n",
      "[CV] learning_rate=0.001, max_depth=3, n_estimators=10 ...............\n",
      "[CV]  learning_rate=0.001, max_depth=3, n_estimators=10, score=-3.332, total=   0.1s\n",
      "[CV] learning_rate=0.001, max_depth=3, n_estimators=10 ...............\n",
      "[CV]  learning_rate=0.001, max_depth=3, n_estimators=10, score=-3.703, total=   0.1s\n",
      "[CV] learning_rate=0.001, max_depth=3, n_estimators=10 ...............\n",
      "[CV]  learning_rate=0.001, max_depth=3, n_estimators=10, score=-4.305, total=   0.1s\n",
      "[CV] learning_rate=0.001, max_depth=3, n_estimators=50 ...............\n",
      "[CV]  learning_rate=0.001, max_depth=3, n_estimators=50, score=-3.848, total=   0.2s\n",
      "[CV] learning_rate=0.001, max_depth=3, n_estimators=50 ...............\n",
      "[CV]  learning_rate=0.001, max_depth=3, n_estimators=50, score=-3.068, total=   0.2s\n",
      "[CV] learning_rate=0.001, max_depth=3, n_estimators=50 ...............\n",
      "[CV]  learning_rate=0.001, max_depth=3, n_estimators=50, score=-3.039, total=   0.2s\n",
      "[CV] learning_rate=0.001, max_depth=3, n_estimators=50 ...............\n",
      "[CV]  learning_rate=0.001, max_depth=3, n_estimators=50, score=-3.368, total=   0.3s\n",
      "[CV] learning_rate=0.001, max_depth=3, n_estimators=50 ...............\n",
      "[CV]  learning_rate=0.001, max_depth=3, n_estimators=50, score=-3.931, total=   0.2s\n",
      "[CV] learning_rate=0.001, max_depth=3, n_estimators=100 ..............\n",
      "[CV]  learning_rate=0.001, max_depth=3, n_estimators=100, score=-3.420, total=   0.5s\n",
      "[CV] learning_rate=0.001, max_depth=3, n_estimators=100 ..............\n",
      "[CV]  learning_rate=0.001, max_depth=3, n_estimators=100, score=-2.727, total=   0.5s\n",
      "[CV] learning_rate=0.001, max_depth=3, n_estimators=100 ..............\n",
      "[CV]  learning_rate=0.001, max_depth=3, n_estimators=100, score=-2.705, total=   0.5s\n",
      "[CV] learning_rate=0.001, max_depth=3, n_estimators=100 ..............\n",
      "[CV]  learning_rate=0.001, max_depth=3, n_estimators=100, score=-2.985, total=   0.5s\n",
      "[CV] learning_rate=0.001, max_depth=3, n_estimators=100 ..............\n",
      "[CV]  learning_rate=0.001, max_depth=3, n_estimators=100, score=-3.504, total=   0.5s\n",
      "[CV] learning_rate=0.001, max_depth=3, n_estimators=200 ..............\n",
      "[CV]  learning_rate=0.001, max_depth=3, n_estimators=200, score=-2.681, total=   0.9s\n",
      "[CV] learning_rate=0.001, max_depth=3, n_estimators=200 ..............\n",
      "[CV]  learning_rate=0.001, max_depth=3, n_estimators=200, score=-2.135, total=   0.9s\n",
      "[CV] learning_rate=0.001, max_depth=3, n_estimators=200 ..............\n",
      "[CV]  learning_rate=0.001, max_depth=3, n_estimators=200, score=-2.126, total=   0.9s\n",
      "[CV] learning_rate=0.001, max_depth=3, n_estimators=200 ..............\n",
      "[CV]  learning_rate=0.001, max_depth=3, n_estimators=200, score=-2.326, total=   0.9s\n",
      "[CV] learning_rate=0.001, max_depth=3, n_estimators=200 ..............\n",
      "[CV]  learning_rate=0.001, max_depth=3, n_estimators=200, score=-2.763, total=   0.9s\n",
      "[CV] learning_rate=0.001, max_depth=5, n_estimators=10 ...............\n",
      "[CV]  learning_rate=0.001, max_depth=5, n_estimators=10, score=-4.220, total=   0.1s\n",
      "[CV] learning_rate=0.001, max_depth=5, n_estimators=10 ...............\n",
      "[CV]  learning_rate=0.001, max_depth=5, n_estimators=10, score=-3.366, total=   0.1s\n",
      "[CV] learning_rate=0.001, max_depth=5, n_estimators=10 ...............\n",
      "[CV]  learning_rate=0.001, max_depth=5, n_estimators=10, score=-3.331, total=   0.1s\n",
      "[CV] learning_rate=0.001, max_depth=5, n_estimators=10 ...............\n",
      "[CV]  learning_rate=0.001, max_depth=5, n_estimators=10, score=-3.702, total=   0.1s\n",
      "[CV] learning_rate=0.001, max_depth=5, n_estimators=10 ...............\n",
      "[CV]  learning_rate=0.001, max_depth=5, n_estimators=10, score=-4.303, total=   0.1s\n",
      "[CV] learning_rate=0.001, max_depth=5, n_estimators=50 ...............\n",
      "[CV]  learning_rate=0.001, max_depth=5, n_estimators=50, score=-3.839, total=   0.4s\n",
      "[CV] learning_rate=0.001, max_depth=5, n_estimators=50 ...............\n",
      "[CV]  learning_rate=0.001, max_depth=5, n_estimators=50, score=-3.061, total=   0.4s\n",
      "[CV] learning_rate=0.001, max_depth=5, n_estimators=50 ...............\n",
      "[CV]  learning_rate=0.001, max_depth=5, n_estimators=50, score=-3.032, total=   0.4s\n",
      "[CV] learning_rate=0.001, max_depth=5, n_estimators=50 ...............\n",
      "[CV]  learning_rate=0.001, max_depth=5, n_estimators=50, score=-3.365, total=   0.4s\n",
      "[CV] learning_rate=0.001, max_depth=5, n_estimators=50 ...............\n",
      "[CV]  learning_rate=0.001, max_depth=5, n_estimators=50, score=-3.920, total=   0.4s\n",
      "[CV] learning_rate=0.001, max_depth=5, n_estimators=100 ..............\n",
      "[CV]  learning_rate=0.001, max_depth=5, n_estimators=100, score=-3.403, total=   0.7s\n",
      "[CV] learning_rate=0.001, max_depth=5, n_estimators=100 ..............\n",
      "[CV]  learning_rate=0.001, max_depth=5, n_estimators=100, score=-2.711, total=   0.7s\n",
      "[CV] learning_rate=0.001, max_depth=5, n_estimators=100 ..............\n",
      "[CV]  learning_rate=0.001, max_depth=5, n_estimators=100, score=-2.691, total=   0.7s\n",
      "[CV] learning_rate=0.001, max_depth=5, n_estimators=100 ..............\n",
      "[CV]  learning_rate=0.001, max_depth=5, n_estimators=100, score=-2.978, total=   0.7s\n",
      "[CV] learning_rate=0.001, max_depth=5, n_estimators=100 ..............\n",
      "[CV]  learning_rate=0.001, max_depth=5, n_estimators=100, score=-3.481, total=   0.7s\n",
      "[CV] learning_rate=0.001, max_depth=5, n_estimators=200 ..............\n",
      "[CV]  learning_rate=0.001, max_depth=5, n_estimators=200, score=-2.652, total=   1.5s\n",
      "[CV] learning_rate=0.001, max_depth=5, n_estimators=200 ..............\n",
      "[CV]  learning_rate=0.001, max_depth=5, n_estimators=200, score=-2.105, total=   1.4s\n",
      "[CV] learning_rate=0.001, max_depth=5, n_estimators=200 ..............\n",
      "[CV]  learning_rate=0.001, max_depth=5, n_estimators=200, score=-2.101, total=   1.4s\n",
      "[CV] learning_rate=0.001, max_depth=5, n_estimators=200 ..............\n",
      "[CV]  learning_rate=0.001, max_depth=5, n_estimators=200, score=-2.311, total=   1.4s\n",
      "[CV] learning_rate=0.001, max_depth=5, n_estimators=200 ..............\n",
      "[CV]  learning_rate=0.001, max_depth=5, n_estimators=200, score=-2.726, total=   1.4s\n",
      "[CV] learning_rate=0.001, max_depth=10, n_estimators=10 ..............\n",
      "[CV]  learning_rate=0.001, max_depth=10, n_estimators=10, score=-4.219, total=   0.2s\n",
      "[CV] learning_rate=0.001, max_depth=10, n_estimators=10 ..............\n",
      "[CV]  learning_rate=0.001, max_depth=10, n_estimators=10, score=-3.365, total=   0.2s\n",
      "[CV] learning_rate=0.001, max_depth=10, n_estimators=10 ..............\n",
      "[CV]  learning_rate=0.001, max_depth=10, n_estimators=10, score=-3.330, total=   0.2s\n",
      "[CV] learning_rate=0.001, max_depth=10, n_estimators=10 ..............\n",
      "[CV]  learning_rate=0.001, max_depth=10, n_estimators=10, score=-3.703, total=   0.2s\n",
      "[CV] learning_rate=0.001, max_depth=10, n_estimators=10 ..............\n",
      "[CV]  learning_rate=0.001, max_depth=10, n_estimators=10, score=-4.302, total=   0.2s\n",
      "[CV] learning_rate=0.001, max_depth=10, n_estimators=50 ..............\n",
      "[CV]  learning_rate=0.001, max_depth=10, n_estimators=50, score=-3.835, total=   0.8s\n",
      "[CV] learning_rate=0.001, max_depth=10, n_estimators=50 ..............\n",
      "[CV]  learning_rate=0.001, max_depth=10, n_estimators=50, score=-3.057, total=   0.7s\n",
      "[CV] learning_rate=0.001, max_depth=10, n_estimators=50 ..............\n",
      "[CV]  learning_rate=0.001, max_depth=10, n_estimators=50, score=-3.029, total=   0.8s\n",
      "[CV] learning_rate=0.001, max_depth=10, n_estimators=50 ..............\n",
      "[CV]  learning_rate=0.001, max_depth=10, n_estimators=50, score=-3.367, total=   0.7s\n",
      "[CV] learning_rate=0.001, max_depth=10, n_estimators=50 ..............\n",
      "[CV]  learning_rate=0.001, max_depth=10, n_estimators=50, score=-3.917, total=   0.8s\n",
      "[CV] learning_rate=0.001, max_depth=10, n_estimators=100 .............\n",
      "[CV]  learning_rate=0.001, max_depth=10, n_estimators=100, score=-3.397, total=   1.5s\n",
      "[CV] learning_rate=0.001, max_depth=10, n_estimators=100 .............\n",
      "[CV]  learning_rate=0.001, max_depth=10, n_estimators=100, score=-2.704, total=   1.5s\n",
      "[CV] learning_rate=0.001, max_depth=10, n_estimators=100 .............\n",
      "[CV]  learning_rate=0.001, max_depth=10, n_estimators=100, score=-2.683, total=   1.5s\n",
      "[CV] learning_rate=0.001, max_depth=10, n_estimators=100 .............\n",
      "[CV]  learning_rate=0.001, max_depth=10, n_estimators=100, score=-2.983, total=   1.4s\n",
      "[CV] learning_rate=0.001, max_depth=10, n_estimators=100 .............\n",
      "[CV]  learning_rate=0.001, max_depth=10, n_estimators=100, score=-3.477, total=   1.5s\n",
      "[CV] learning_rate=0.001, max_depth=10, n_estimators=200 .............\n",
      "[CV]  learning_rate=0.001, max_depth=10, n_estimators=200, score=-2.641, total=   3.0s\n",
      "[CV] learning_rate=0.001, max_depth=10, n_estimators=200 .............\n",
      "[CV]  learning_rate=0.001, max_depth=10, n_estimators=200, score=-2.095, total=   3.0s\n",
      "[CV] learning_rate=0.001, max_depth=10, n_estimators=200 .............\n",
      "[CV]  learning_rate=0.001, max_depth=10, n_estimators=200, score=-2.084, total=   3.0s\n",
      "[CV] learning_rate=0.001, max_depth=10, n_estimators=200 .............\n",
      "[CV]  learning_rate=0.001, max_depth=10, n_estimators=200, score=-2.321, total=   2.9s\n",
      "[CV] learning_rate=0.001, max_depth=10, n_estimators=200 .............\n",
      "[CV]  learning_rate=0.001, max_depth=10, n_estimators=200, score=-2.716, total=   3.0s\n",
      "[CV] learning_rate=0.001, max_depth=20, n_estimators=10 ..............\n",
      "[CV]  learning_rate=0.001, max_depth=20, n_estimators=10, score=-4.219, total=   0.2s\n",
      "[CV] learning_rate=0.001, max_depth=20, n_estimators=10 ..............\n",
      "[CV]  learning_rate=0.001, max_depth=20, n_estimators=10, score=-3.365, total=   0.2s\n",
      "[CV] learning_rate=0.001, max_depth=20, n_estimators=10 ..............\n",
      "[CV]  learning_rate=0.001, max_depth=20, n_estimators=10, score=-3.330, total=   0.2s\n",
      "[CV] learning_rate=0.001, max_depth=20, n_estimators=10 ..............\n",
      "[CV]  learning_rate=0.001, max_depth=20, n_estimators=10, score=-3.703, total=   0.2s\n",
      "[CV] learning_rate=0.001, max_depth=20, n_estimators=10 ..............\n",
      "[CV]  learning_rate=0.001, max_depth=20, n_estimators=10, score=-4.302, total=   0.2s\n",
      "[CV] learning_rate=0.001, max_depth=20, n_estimators=50 ..............\n",
      "[CV]  learning_rate=0.001, max_depth=20, n_estimators=50, score=-3.835, total=   0.8s\n",
      "[CV] learning_rate=0.001, max_depth=20, n_estimators=50 ..............\n",
      "[CV]  learning_rate=0.001, max_depth=20, n_estimators=50, score=-3.057, total=   0.8s\n",
      "[CV] learning_rate=0.001, max_depth=20, n_estimators=50 ..............\n",
      "[CV]  learning_rate=0.001, max_depth=20, n_estimators=50, score=-3.029, total=   0.8s\n",
      "[CV] learning_rate=0.001, max_depth=20, n_estimators=50 ..............\n",
      "[CV]  learning_rate=0.001, max_depth=20, n_estimators=50, score=-3.367, total=   0.8s\n",
      "[CV] learning_rate=0.001, max_depth=20, n_estimators=50 ..............\n",
      "[CV]  learning_rate=0.001, max_depth=20, n_estimators=50, score=-3.916, total=   0.9s\n",
      "[CV] learning_rate=0.001, max_depth=20, n_estimators=100 .............\n",
      "[CV]  learning_rate=0.001, max_depth=20, n_estimators=100, score=-3.397, total=   1.6s\n",
      "[CV] learning_rate=0.001, max_depth=20, n_estimators=100 .............\n",
      "[CV]  learning_rate=0.001, max_depth=20, n_estimators=100, score=-2.704, total=   1.7s\n",
      "[CV] learning_rate=0.001, max_depth=20, n_estimators=100 .............\n",
      "[CV]  learning_rate=0.001, max_depth=20, n_estimators=100, score=-2.683, total=   1.6s\n",
      "[CV] learning_rate=0.001, max_depth=20, n_estimators=100 .............\n",
      "[CV]  learning_rate=0.001, max_depth=20, n_estimators=100, score=-2.983, total=   1.6s\n",
      "[CV] learning_rate=0.001, max_depth=20, n_estimators=100 .............\n",
      "[CV]  learning_rate=0.001, max_depth=20, n_estimators=100, score=-3.477, total=   1.7s\n",
      "[CV] learning_rate=0.001, max_depth=20, n_estimators=200 .............\n",
      "[CV]  learning_rate=0.001, max_depth=20, n_estimators=200, score=-2.641, total=   3.3s\n",
      "[CV] learning_rate=0.001, max_depth=20, n_estimators=200 .............\n",
      "[CV]  learning_rate=0.001, max_depth=20, n_estimators=200, score=-2.094, total=   3.4s\n",
      "[CV] learning_rate=0.001, max_depth=20, n_estimators=200 .............\n",
      "[CV]  learning_rate=0.001, max_depth=20, n_estimators=200, score=-2.084, total=   3.2s\n",
      "[CV] learning_rate=0.001, max_depth=20, n_estimators=200 .............\n",
      "[CV]  learning_rate=0.001, max_depth=20, n_estimators=200, score=-2.321, total=   3.2s\n",
      "[CV] learning_rate=0.001, max_depth=20, n_estimators=200 .............\n",
      "[CV]  learning_rate=0.001, max_depth=20, n_estimators=200, score=-2.716, total=   3.4s\n"
     ]
    },
    {
     "name": "stderr",
     "output_type": "stream",
     "text": [
      "[Parallel(n_jobs=1)]: Done 400 out of 400 | elapsed:  7.5min finished\n"
     ]
    },
    {
     "data": {
      "text/plain": [
       "{'learning_rate': 0.1, 'max_depth': 5, 'n_estimators': 200}"
      ]
     },
     "execution_count": 187,
     "metadata": {},
     "output_type": "execute_result"
    }
   ],
   "source": [
    "grid= GridSearchCV(xgs_model,param_grid, verbose=3)\n",
    "grid.fit(X_train,y_train)\n",
    "grid.best_params_"
   ]
  },
  {
   "cell_type": "code",
   "execution_count": 188,
   "metadata": {
    "id": "EA01NG70dno5"
   },
   "outputs": [],
   "source": [
    "xgr = XGBRegressor(learning_rate =  0.1, max_depth =  5, n_estimators = 200)\n",
    "new_model_xgb = xgr.fit(X_train,y_train)\n",
    "y_pred = new_model_xgb.predict(X_test)"
   ]
  },
  {
   "cell_type": "code",
   "execution_count": 189,
   "metadata": {
    "colab": {
     "base_uri": "https://localhost:8080/",
     "height": 350
    },
    "id": "GKZpnM-vdnrz",
    "outputId": "12cdafc7-4d3a-483d-aa26-87a1c4dfee6a"
   },
   "outputs": [
    {
     "name": "stderr",
     "output_type": "stream",
     "text": [
      "/usr/local/lib/python3.7/dist-packages/seaborn/distributions.py:2557: FutureWarning: `distplot` is a deprecated function and will be removed in a future version. Please adapt your code to use either `displot` (a figure-level function with similar flexibility) or `histplot` (an axes-level function for histograms).\n",
      "  warnings.warn(msg, FutureWarning)\n"
     ]
    },
    {
     "data": {
      "text/plain": [
       "<matplotlib.axes._subplots.AxesSubplot at 0x7fb2a57e1850>"
      ]
     },
     "execution_count": 189,
     "metadata": {},
     "output_type": "execute_result"
    },
    {
     "data": {
      "image/png": "[encoded data removed]",
      "text/plain": [
       "<Figure size 432x288 with 1 Axes>"
      ]
     },
     "metadata": {
      "needs_background": "light"
     },
     "output_type": "display_data"
    }
   ],
   "source": [
    "sns.distplot(y_test-y_pred)"
   ]
  },
  {
   "cell_type": "code",
   "execution_count": 190,
   "metadata": {
    "colab": {
     "base_uri": "https://localhost:8080/"
    },
    "id": "KiqXH1kXdnu5",
    "outputId": "6e91e73f-eee8-4f09-d65d-c61011be2f77"
   },
   "outputs": [
    {
     "data": {
      "text/plain": [
       "3100977.4164339174"
      ]
     },
     "execution_count": 190,
     "metadata": {},
     "output_type": "execute_result"
    }
   ],
   "source": [
    "mean_squared_error(y_test,y_pred)"
   ]
  },
  {
   "cell_type": "markdown",
   "metadata": {
    "id": "GOsR_JzGp91-"
   },
   "source": [
    "## Saving Model"
   ]
  },
  {
   "cell_type": "code",
   "execution_count": 191,
   "metadata": {
    "id": "Mueeobq0dnx2"
   },
   "outputs": [],
   "source": [
    "import pickle\n",
    "filename = 'xgboost_model.pickle'\n",
    "pickle.dump(new_model_xgb, open(filename, 'wb'))\n",
    "\n",
    "filename_scaler = 'sc_model.pickle'\n",
    "pickle.dump(sc_model, open(filename_scaler, 'wb'))\n",
    "\n",
    "\n",
    "loaded_model = pickle.load(open(filename, 'rb'))\n",
    "scalar_model = pickle.load(open(filename_scaler, 'rb'))"
   ]
  }
 ],
 "metadata": {
  "colab": {
   "collapsed_sections": [
    "ppP-fVyUDkNg",
    "2HVZOxZpDkNj",
    "1jdnwiTVDkNl",
    "6wJPPKwpDkNo",
    "G2VOmu15DkNq",
    "pIfxKP7aDkNr",
    "J_28fSUoDkNt",
    "Twq7JCFJDkNu"
   ],
   "name": "FlightFarePrediction.ipynb",
   "provenance": []
  },
  "kernelspec": {
   "display_name": "Python 3",
   "language": "python",
   "name": "python3"
  },
  "language_info": {
   "codemirror_mode": {
    "name": "ipython",
    "version": 3
   },
   "file_extension": ".py",
   "mimetype": "text/x-python",
   "name": "python",
   "nbconvert_exporter": "python",
   "pygments_lexer": "ipython3",
   "version": "3.8.5"
  }
 },
 "nbformat": 4,
 "nbformat_minor": 1
}
